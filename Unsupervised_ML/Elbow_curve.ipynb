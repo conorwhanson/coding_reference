{
 "cells": [
  {
   "cell_type": "code",
   "execution_count": null,
   "id": "a3e8246e",
   "metadata": {},
   "outputs": [],
   "source": [
    "import pandas as pd\n",
    "import plotly.express as px\n",
    "import hvplot.pandas\n",
    "from sklearn.cluster import KMeans"
   ]
  },
  {
   "cell_type": "code",
   "execution_count": null,
   "id": "1b768c2e",
   "metadata": {},
   "outputs": [],
   "source": [
    "file = \"new_iris_data.csv\"\n",
    "df = pd.read_csv(file)\n",
    "df.head()"
   ]
  },
  {
   "cell_type": "code",
   "execution_count": null,
   "id": "73c1dc54",
   "metadata": {},
   "outputs": [],
   "source": [
    "# store values of K to Plot\n",
    "inertia = []\n",
    "k = list(range(1,11))"
   ]
  },
  {
   "cell_type": "code",
   "execution_count": null,
   "id": "cdedafc6",
   "metadata": {},
   "outputs": [],
   "source": [
    "# Find the best K\n",
    "for i in k:\n",
    "    km = KMeans(n_clusters=i, random_state=0)\n",
    "    km.fit(df)\n",
    "    inertia.append(km.inertia_)"
   ]
  },
  {
   "cell_type": "code",
   "execution_count": null,
   "id": "8ef5d548",
   "metadata": {},
   "outputs": [],
   "source": [
    "# plot the elbow curve\n",
    "elbow_data = {\"k\": k, \"inertia\": inertia}\n",
    "df_elbow = pd.DataFrame(elbow_data)\n",
    "df_elbow.hvplot.line(x=\"k\", y=\"inertia\", title=\"Elbow Curve\", xticks=k)"
   ]
  },
  {
   "cell_type": "code",
   "execution_count": null,
   "id": "39411195",
   "metadata": {},
   "outputs": [],
   "source": [
    "# Use the Elbow Curve with shopping data\n",
    "file_load = \"shopping_data_cleaned.csv\"\n",
    "shop_df = pd.read_csv(file_load)\n",
    "shop_df.head()"
   ]
  },
  {
   "cell_type": "code",
   "execution_count": null,
   "id": "5ba9ab23",
   "metadata": {},
   "outputs": [],
   "source": [
    "# to create E.C. we need 1) a list of K values and 2) a list of inertia values\n",
    "inertia = []\n",
    "k = list(range(1,11))\n",
    "\n",
    "# calculate inertia for range of k values above\n",
    "for i in k:\n",
    "    km = KMeans(n_clusters=i, random_state=0)\n",
    "    km.fit(shop_df)\n",
    "    inertia.append(km.inertia_)"
   ]
  },
  {
   "cell_type": "code",
   "execution_count": null,
   "id": "0b37ceb5",
   "metadata": {},
   "outputs": [],
   "source": [
    "# plot the E.C.\n",
    "elbow_shop = {\"k\": k, \"inertia\": inertia}\n",
    "shopelbow_df = pd.DataFrame(elbow_shop)\n",
    "shopelbow_df.hvplot.line(x=\"k\", y=\"inertia\", xticks=k, title=\"shopping elbow curve\")"
   ]
  },
  {
   "cell_type": "code",
   "execution_count": null,
   "id": "d6c5d545",
   "metadata": {},
   "outputs": [],
   "source": [
    "# create a cluster function\n",
    "def get_clusters(k ,data):\n",
    "    \n",
    "    # copy the df\n",
    "    data = data.copy()\n",
    "    \n",
    "    # initialize K-means model\n",
    "    model = KMeans(n_clusters=k, random_state=0)\n",
    "    \n",
    "    # fit it\n",
    "    model.fit(data)\n",
    "    \n",
    "    # predict clusters\n",
    "    predict = model.predict(data)\n",
    "    \n",
    "    # return a df with predicted clusters\n",
    "    data['class'] = model.labels_\n",
    "    \n",
    "    return data"
   ]
  },
  {
   "cell_type": "code",
   "execution_count": null,
   "id": "ea6d9128",
   "metadata": {},
   "outputs": [],
   "source": [
    "# run function with 5 clusters\n",
    "five_clusters = get_clusters(5, shop_df)\n",
    "five_clusters.head()"
   ]
  },
  {
   "cell_type": "code",
   "execution_count": null,
   "id": "5a3cb8c5",
   "metadata": {},
   "outputs": [],
   "source": [
    "# run function with 6 clusters\n",
    "six_clusters = get_clusters(6, shop_df)\n",
    "six_clusters.head()"
   ]
  },
  {
   "cell_type": "code",
   "execution_count": null,
   "id": "f10ef169",
   "metadata": {},
   "outputs": [],
   "source": [
    "# plot 2D of 5-cluster function\n",
    "five_clusters.hvplot.scatter(x=\"AnnualIncome\", y=\"SpendingScore\", by='class')"
   ]
  },
  {
   "cell_type": "code",
   "execution_count": null,
   "id": "aed197e2",
   "metadata": {},
   "outputs": [],
   "source": [
    "# plot 2D of 6-cluster function\n",
    "six_clusters.hvplot.scatter(x=\"AnnualIncome\", y=\"SpendingScore\", by='class')"
   ]
  },
  {
   "cell_type": "code",
   "execution_count": null,
   "id": "fa0f4e54",
   "metadata": {},
   "outputs": [],
   "source": [
    "# plot 3D for 5-clusters\n",
    "fig = px.scatter_3d(\n",
    "    five_clusters,\n",
    "    x=\"Age\",\n",
    "    y=\"SpendingScore\",\n",
    "    z=\"AnnualIncome\",\n",
    "    color=\"class\",\n",
    "    symbol=\"class\",\n",
    "    width=800,\n",
    ")\n",
    "fig.update_layout(legend=dict(x=0, y=1))\n",
    "fig.show()"
   ]
  },
  {
   "cell_type": "code",
   "execution_count": null,
   "id": "0cad5731",
   "metadata": {},
   "outputs": [],
   "source": [
    "# plot 3D for 6 clusters\n",
    "fig = px.scatter_3d(\n",
    "    six_clusters,\n",
    "    x=\"Age\",\n",
    "    y=\"SpendingScore\",\n",
    "    z=\"AnnualIncome\",\n",
    "    color=\"class\",\n",
    "    symbol=\"class\",\n",
    "    width=800,\n",
    ")\n",
    "fig.update_layout(legend=dict(x=0, y=1))\n",
    "fig.show()"
   ]
  },
  {
   "cell_type": "code",
   "execution_count": null,
   "id": "3766d461",
   "metadata": {},
   "outputs": [],
   "source": []
  }
 ],
 "metadata": {
  "kernelspec": {
   "display_name": "Python 3 (ipykernel)",
   "language": "python",
   "name": "python3"
  },
  "language_info": {
   "codemirror_mode": {
    "name": "ipython",
    "version": 3
   },
   "file_extension": ".py",
   "mimetype": "text/x-python",
   "name": "python",
   "nbconvert_exporter": "python",
   "pygments_lexer": "ipython3",
   "version": "3.9.7"
  }
 },
 "nbformat": 4,
 "nbformat_minor": 5
}
