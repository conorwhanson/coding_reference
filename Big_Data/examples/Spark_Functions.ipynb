{
  "nbformat": 4,
  "nbformat_minor": 0,
  "metadata": {
    "colab": {
      "name": "Spark_Functions.ipynb",
      "provenance": [],
      "collapsed_sections": []
    },
    "kernelspec": {
      "name": "python3",
      "display_name": "Python 3"
    },
    "language_info": {
      "name": "python"
    }
  },
  "cells": [
    {
      "cell_type": "code",
      "execution_count": 1,
      "metadata": {
        "colab": {
          "base_uri": "https://localhost:8080/"
        },
        "id": "zqf9U7TgAmtE",
        "outputId": "a2f1301c-1758-4c0e-e6b0-961e15bccfa9"
      },
      "outputs": [
        {
          "output_type": "stream",
          "name": "stdout",
          "text": [
            "\r0% [Working]\r            \rGet:1 https://cloud.r-project.org/bin/linux/ubuntu bionic-cran40/ InRelease [3,626 B]\n",
            "\r0% [Connecting to archive.ubuntu.com] [Connecting to security.ubuntu.com (185.1\r0% [Connecting to archive.ubuntu.com] [Connecting to security.ubuntu.com (185.1\r                                                                               \rHit:2 https://developer.download.nvidia.com/compute/cuda/repos/ubuntu1804/x86_64  InRelease\n",
            "\r0% [Connecting to archive.ubuntu.com (91.189.91.38)] [Waiting for headers] [Wai\r0% [1 InRelease gpgv 3,626 B] [Connecting to archive.ubuntu.com (91.189.91.38)]\r                                                                               \rGet:3 http://ppa.launchpad.net/c2d4u.team/c2d4u4.0+/ubuntu bionic InRelease [15.9 kB]\n",
            "\r0% [1 InRelease gpgv 3,626 B] [Connecting to archive.ubuntu.com (91.189.91.38)]\r                                                                               \rGet:4 http://security.ubuntu.com/ubuntu bionic-security InRelease [88.7 kB]\n",
            "\r0% [1 InRelease gpgv 3,626 B] [Connecting to archive.ubuntu.com (91.189.91.38)]\r0% [1 InRelease gpgv 3,626 B] [Waiting for headers] [4 InRelease 14.2 kB/88.7 k\r                                                                               \rIgn:5 https://developer.download.nvidia.com/compute/machine-learning/repos/ubuntu1804/x86_64  InRelease\n",
            "Hit:6 https://developer.download.nvidia.com/compute/machine-learning/repos/ubuntu1804/x86_64  Release\n",
            "Hit:7 http://archive.ubuntu.com/ubuntu bionic InRelease\n",
            "Hit:8 http://ppa.launchpad.net/cran/libgit2/ubuntu bionic InRelease\n",
            "Get:9 http://archive.ubuntu.com/ubuntu bionic-updates InRelease [88.7 kB]\n",
            "Get:10 http://archive.ubuntu.com/ubuntu bionic-backports InRelease [74.6 kB]\n",
            "Hit:11 http://ppa.launchpad.net/deadsnakes/ppa/ubuntu bionic InRelease\n",
            "Hit:12 http://ppa.launchpad.net/graphics-drivers/ppa/ubuntu bionic InRelease\n",
            "Get:13 http://ppa.launchpad.net/c2d4u.team/c2d4u4.0+/ubuntu bionic/main Sources [2,075 kB]\n",
            "Get:15 http://ppa.launchpad.net/c2d4u.team/c2d4u4.0+/ubuntu bionic/main amd64 Packages [1,063 kB]\n",
            "Get:16 http://security.ubuntu.com/ubuntu bionic-security/universe amd64 Packages [1,521 kB]\n",
            "Get:17 http://security.ubuntu.com/ubuntu bionic-security/main amd64 Packages [2,871 kB]\n",
            "Get:18 http://security.ubuntu.com/ubuntu bionic-security/restricted amd64 Packages [1,031 kB]\n",
            "Get:19 http://archive.ubuntu.com/ubuntu bionic-updates/restricted amd64 Packages [1,075 kB]\n",
            "Get:20 http://archive.ubuntu.com/ubuntu bionic-updates/universe amd64 Packages [2,298 kB]\n",
            "Get:21 http://archive.ubuntu.com/ubuntu bionic-updates/main amd64 Packages [3,302 kB]\n",
            "Fetched 15.5 MB in 7s (2,256 kB/s)\n",
            "Reading package lists... Done\n"
          ]
        }
      ],
      "source": [
        "import os\n",
        "# Find the latest version of spark 3.0  from http://www.apache.org/dist/spark/ and enter as the spark version\n",
        "# For example:\n",
        "# spark_version = 'spark-3.0.3'\n",
        "spark_version = 'spark-3.2.1'\n",
        "os.environ['SPARK_VERSION']=spark_version\n",
        "\n",
        "# Install Spark and Java\n",
        "!apt-get update\n",
        "!apt-get install openjdk-11-jdk-headless -qq > /dev/null\n",
        "!wget -q http://www.apache.org/dist/spark/$SPARK_VERSION/$SPARK_VERSION-bin-hadoop2.7.tgz\n",
        "!tar xf $SPARK_VERSION-bin-hadoop2.7.tgz\n",
        "!pip install -q findspark\n",
        "\n",
        "# Set Environment Variables\n",
        "import os\n",
        "os.environ[\"JAVA_HOME\"] = \"/usr/lib/jvm/java-11-openjdk-amd64\"\n",
        "os.environ[\"SPARK_HOME\"] = f\"/content/{spark_version}-bin-hadoop2.7\"\n",
        "\n",
        "# Start a SparkSession\n",
        "import findspark\n",
        "findspark.init()"
      ]
    },
    {
      "cell_type": "code",
      "source": [
        "# Start Spark session and import dependencies\n",
        "from pyspark.sql import SparkSession\n",
        "spark = SparkSession.builder.appName(\"DataFrameBasics\").getOrCreate()\n",
        "from pyspark import SparkFiles\n",
        "\n",
        "# Import struct fields that we can use\n",
        "from pyspark.sql.types import StructField, StringType, IntegerType, StructType"
      ],
      "metadata": {
        "id": "tiXNX40tA-rN"
      },
      "execution_count": 2,
      "outputs": []
    },
    {
      "cell_type": "code",
      "source": [
        "url =\"https://2u-data-curriculum-team.s3.amazonaws.com/dataviz-online/module_16/wine.csv\"\n",
        "spark.sparkContext.addFile(url)\n",
        "df = spark.read.csv(SparkFiles.get(\"wine.csv\"), sep=\",\", header=True)\n",
        "\n",
        "# Show DataFrame\n",
        "df.show()"
      ],
      "metadata": {
        "colab": {
          "base_uri": "https://localhost:8080/"
        },
        "id": "YNSGAQp_A-0Q",
        "outputId": "f2cf08c3-89f7-4740-baef-d158cd81d3a7"
      },
      "execution_count": 3,
      "outputs": [
        {
          "output_type": "stream",
          "name": "stdout",
          "text": [
            "+-------+--------------------+--------------------+------+-----+------------------+--------------------+-----------------+------------------+--------------------+\n",
            "|country|         description|         designation|points|price|          province|            region_1|         region_2|           variety|              winery|\n",
            "+-------+--------------------+--------------------+------+-----+------------------+--------------------+-----------------+------------------+--------------------+\n",
            "|     US|This tremendous 1...|   Martha's Vineyard|    96|  235|        California|         Napa Valley|             Napa|Cabernet Sauvignon|               Heitz|\n",
            "|  Spain|Ripe aromas of fi...|Carodorum Selecci...|    96|  110|    Northern Spain|                Toro|             null|     Tinta de Toro|Bodega Carmen Rod...|\n",
            "|     US|Mac Watson honors...|Special Selected ...|    96|   90|        California|      Knights Valley|           Sonoma|   Sauvignon Blanc|            Macauley|\n",
            "|     US|This spent 20 mon...|             Reserve|    96|   65|            Oregon|   Willamette Valley|Willamette Valley|        Pinot Noir|               Ponzi|\n",
            "| France|This is the top w...|         La Br��lade|    95|   66|          Provence|              Bandol|             null|Provence red blend|Domaine de la B̩gude|\n",
            "|  Spain|Deep, dense and p...|           Numanthia|    95|   73|    Northern Spain|                Toro|             null|     Tinta de Toro|           Numanthia|\n",
            "|  Spain|Slightly gritty b...|          San Rom��n|    95|   65|    Northern Spain|                Toro|             null|     Tinta de Toro|            Maurodos|\n",
            "|  Spain|Lush cedary black...|Carodorum �_nico ...|    95|  110|    Northern Spain|                Toro|             null|     Tinta de Toro|Bodega Carmen Rod...|\n",
            "|     US|This re-named vin...|              Silice|    95|   65|            Oregon|  Chehalem Mountains|Willamette Valley|        Pinot Noir|           Bergstr̦m|\n",
            "|     US|The producer sour...|Gap's Crown Vineyard|    95|   60|        California|        Sonoma Coast|           Sonoma|        Pinot Noir|           Blue Farm|\n",
            "|  Italy|Elegance, complex...|  Ronco della Chiesa|    95|   80|Northeastern Italy|              Collio|             null|          Friulano|    Borgo del Tiglio|\n",
            "|     US|From 18-year-old ...|Estate Vineyard W...|    95|   48|            Oregon|        Ribbon Ridge|Willamette Valley|        Pinot Noir|Patricia Green Ce...|\n",
            "|     US|A standout even i...|      Weber Vineyard|    95|   48|            Oregon|        Dundee Hills|Willamette Valley|        Pinot Noir|Patricia Green Ce...|\n",
            "| France|This wine is in p...|Ch̢teau Montus Pr...|    95|   90|  Southwest France|             Madiran|             null|            Tannat|   Vignobles Brumont|\n",
            "|     US|With its sophisti...|      Grace Vineyard|    95|  185|            Oregon|        Dundee Hills|Willamette Valley|        Pinot Noir|      Domaine Serene|\n",
            "|     US|First made in 200...|              Sigrid|    95|   90|            Oregon|   Willamette Valley|Willamette Valley|        Chardonnay|           Bergstr̦m|\n",
            "|     US|This blockbuster,...|     Rainin Vineyard|    95|  325|        California|Diamond Mountain ...|             Napa|Cabernet Sauvignon|                Hall|\n",
            "|  Spain|Nicely oaked blac...|6 A̱os Reserva Pr...|    95|   80|    Northern Spain|    Ribera del Duero|             null|       Tempranillo|            Valduero|\n",
            "| France|Coming from a sev...|       Le Pigeonnier|    95|  290|  Southwest France|              Cahors|             null|            Malbec|  Ch̢teau Lagr̩zette|\n",
            "|     US|This fresh and li...|Gap's Crown Vineyard|    95|   75|        California|        Sonoma Coast|           Sonoma|        Pinot Noir|        Gary Farrell|\n",
            "+-------+--------------------+--------------------+------+-----+------------------+--------------------+-----------------+------------------+--------------------+\n",
            "only showing top 20 rows\n",
            "\n"
          ]
        }
      ]
    },
    {
      "cell_type": "markdown",
      "source": [
        "Transformations Vs. Actions\n",
        "\n",
        "The transformations are the instructions for the particular computation.\n",
        "\n",
        "Actions tell Spark to perform the computation(s) and return a result."
      ],
      "metadata": {
        "id": "in0_PWkwBTcv"
      }
    },
    {
      "cell_type": "code",
      "source": [
        "# Order a DataFrame by ascending values\n",
        "df.orderBy(df[\"points\"]).show(50)"
      ],
      "metadata": {
        "colab": {
          "base_uri": "https://localhost:8080/"
        },
        "id": "IJrQ604gA-5_",
        "outputId": "c105ef20-af5f-4cfb-836e-aa4c57a2f035"
      },
      "execution_count": 11,
      "outputs": [
        {
          "output_type": "stream",
          "name": "stdout",
          "text": [
            "+--------------------+--------------------+--------------------+--------------------+--------------------+--------------------+--------------------+--------------------+--------------------+--------------------+\n",
            "|             country|         description|         designation|              points|               price|            province|            region_1|            region_2|             variety|              winery|\n",
            "+--------------------+--------------------+--------------------+--------------------+--------------------+--------------------+--------------------+--------------------+--------------------+--------------------+\n",
            "|                  US|               Ripe |                null|                null|                null|                null|                null|                null|                null|                null|\n",
            "|                  US|Brisk and clean, ...|                null|                null|                null|                null|                null|                null|                null|                null|\n",
            "|                  US|The strong aroma ...|                null|                null|                null|                null|                null|                null|                null|                null|\n",
            "|               Italy|\"This nicely stru...| bitter almond an...|                null|                  88|                  24|  Northeastern Italy|      Venezia Giulia|                null|        Pinot Grigio|\n",
            "|               Italy|This offers gener...|                null|                null|                null|                null|                null|                null|                null|                null|\n",
            "|                  US|This shows a deft...|                null|                null|                null|                null|                null|                null|                null|                null|\n",
            "|           Australia|\"It's beyond me w...| and top it all o...| Sweet Tart aroma...|                null|                  82|                  19|     South Australia|     Langhorne Creek|                null|\n",
            "|           Australia|\"It's beyond me w...| and top it all o...| Sweet Tart aroma...|                null|                  82|                  19|     South Australia|     Langhorne Creek|                null|\n",
            "|           Australia|\"The winery's cel...| break open this ...| and perhaps a li...| wtih dark plum a...| Cab Franc (30%) ...| made nonvintage ...|               Vixen|                  88|                  17|\n",
            "|                  US|\"Rarely does a Ca...|    but here it does| and who should c...| round and delici...|       Grand Reserve|                  93|                  60|          California|          California|\n",
            "|         New Zealand|\"Produced from \"\"...| Riesling offers ...| apple and pear a...| you might expect...| but thanks to cr...| it's not cloying...| well-balanced wi...|Desert Gold Late ...|                  86|\n",
            "|         New Zealand|\"Produced from \"\"...| Riesling offers ...| apple and pear a...| you might expect...| but thanks to cr...| it's not cloying...| well-balanced wi...|Desert Gold Late ...|                  86|\n",
            "|         New Zealand|\"Produced from \"\"...| Riesling offers ...| apple and pear a...| you might expect...| but thanks to cr...| it's not cloying...| well-balanced wi...|Desert Gold Late ...|                  86|\n",
            "|               Italy|\"Made with a blen...| black pepper and...| biodynamic and o...|       Munjebel 7 VA|                  91|                  50|   Sicily & Sardinia|                Etna|                null|\n",
            "|           Australia|\"For the price, t...|\"\" as Australians...| chocolate and ce...| balanced by savo...|     D Block Reserve|                  92|                  50|     South Australia|        McLaren Vale|\n",
            "|                  US|\"Note the \"\"Bened...| from a time when...| cloudy with sedi...|               anise|          sweet beet|          smoky char|          spice. Dry|         full-bodied| rich in dark che...|\n",
            "|                  US|\"Takes all of the...|                plum| coffee and mocha...| a thick texture ...|        Andy's Field|                  89|                  27|            New York|North Fork of Lon...|\n",
            "|                  US|\"Takes all of the...|                plum| coffee and mocha...| a thick texture ...|        Andy's Field|                  89|                  27|            New York|North Fork of Lon...|\n",
            "|                  US|\"The word \"\"black...|              coffee| currant. Cola is...| and creamy and r...| with excellent w...|        Sunshine Vyd|                  93|                  95|          California|\n",
            "|                  US|\"For this winery'...| it shines bright...| espresso bean an...| with just the sl...|                null|                  92|                  35|          California|         Napa Valley|\n",
            "|             Germany|\"This rather rust...| simple and earth...| fermenting-hay n...| continues into t...| it might work wi...|      Qualit�_tswein|                  82|                  12|               Baden|\n",
            "|             Germany|\"This rather rust...| simple and earth...| fermenting-hay n...| continues into t...| it might work wi...|      Qualit�_tswein|                  82|                  12|               Baden|\n",
            "|              France|\"The nose is domi...| and at this poin...|   given the price.\"|         Les Charmes|                  87|                  65|            Burgundy|   Chambolle-Musigny|                null|\n",
            "|              France|\"The nose is domi...| and at this poin...|   given the price.\"|         Les Charmes|                  87|                  65|            Burgundy|   Chambolle-Musigny|                null|\n",
            "|                  US|\"Noceto is a Sang...| which dates back...| good and juicy w...| but also tannic ...|          dusty even| with a hint of m...|OGP - The Origina...|                  88|                  29|\n",
            "|             Austria|         \"\"\"Chremisa|\"\" the ancient na...| is commemorated ...| tangy apple-driv...|       with a bright|               light| citrusy characte...|Edition Chremisa ...|                  85|\n",
            "|                  US|\"I called the '04...| and this wine se...| it suffers from ...| raisiny flavors ...|  Clos Pepe Vineyard|                  82|                  40|          California|     Sta. Rita Hills|\n",
            "|                  US|\"This oddball gra...| concentrated aro...|     kiwi and orange| with a noticeabl...|         big flavors| and a lot of wei...|                null|                  84|                  18|\n",
            "|blackberry and bl...| which is rich in...| smoky oak. But i...|       so drink up.\"|       Artist Series|                  87|                  60|          California|       Sonoma County|              Sonoma|\n",
            "|                  US|\"This Cabernet-Me...| which in this ca...| the wine should ...|Estate Monte Bell...|                  95|                  40|          California|Santa Cruz Mountains|       Central Coast|\n",
            "|           Australia|\"Gemtree's \"\"regu...|        the Obsidian| though the latte...| and good intensi...| smoky flavors po...|               Uncut|                  89|                  28|     South Australia|\n",
            "|            Portugal|\"\"\"New moon on ol...|           ripe wine|       very textured| complex. It has ...|  laced with acidity| very firmly anch...|Lua Nova em Vinha...|                  91|                  15|\n",
            "|           Australia|\"Light green pea ...|             he says| will get more oak.\"|                null|                  87|                  13|     South Australia|        McLaren Vale|                null|\n",
            "|                  US|\"The flagship of ...| chewier finish t...| with aromas and ...|              cassis|             tobacco| cedar and a mult...| starting in 2010...|Limited Release I...|                  93|\n",
            "|                  US|\"The flagship of ...| chewier finish t...| with aromas and ...|              cassis|             tobacco| cedar and a mult...| starting in 2010...|Limited Release I...|                  93|\n",
            "|                  US|\"The flagship of ...| chewier finish t...| with aromas and ...|              cassis|             tobacco| cedar and a mult...| starting in 2010...|Limited Release I...|                  93|\n",
            "|              France|\"A curious connec...| the wine itself ...| with aromas of h...|   layers of acidity|    a touch of toast| but still retain...|  Cuv̩e Pr̩dilection|                  90|                null|\n",
            "|              France|\"A curious connec...| the wine itself ...| with aromas of h...|   layers of acidity|    a touch of toast| but still retain...|  Cuv̩e Pr̩dilection|                  90|                null|\n",
            "|                  US|Impossibly aromat...|            Red Wine|                 100|                 245|          California|          Rutherford|                Napa|      Cabernet Blend|               Sloan|\n",
            "|                  US|In a stunning lin...|En Chamberlin Vin...|                 100|                  65|              Oregon|Walla Walla Valle...|        Oregon Other|               Syrah|              Cayuse|\n",
            "|           Australia|Not a Cellar Sele...|                Rare|                 100|                 300|            Victoria|          Rutherglen|                null|              Muscat|Chambers Rosewood...|\n",
            "|              France|A wine that has c...|      Clos du Mesnil|                 100|                1400|           Champagne|           Champagne|                null|          Chardonnay|                Krug|\n",
            "|                  US|In a stunning lin...|En Chamberlin Vin...|                 100|                  65|              Oregon|Walla Walla Valle...|        Oregon Other|               Syrah|              Cayuse|\n",
            "|                  US|Tasted in a fligh...|                null|                 100|                 200|          California|         Napa Valley|                Napa|  Cabernet Sauvignon|           Cardinale|\n",
            "|                  US|Impossibly aromat...|            Red Wine|                 100|                 245|          California|          Rutherford|                Napa|      Cabernet Blend|               Sloan|\n",
            "|              France|Full of ripe frui...|                null|                 100|                 848|            Bordeaux|      Pessac-L̩ognan|                null|Bordeaux-style Wh...|  Ch̢teau Haut-Brion|\n",
            "|                  US|A perfect score h...|     Hillside Select|                 100|                 215|          California| Stags Leap District|                Napa|  Cabernet Sauvignon|              Shafer|\n",
            "|                  US|A spectacular Pin...|Litton Estate Vin...|                 100|                 100|          California|Russian River Valley|              Sonoma|          Pinot Noir|     Williams Selyem|\n",
            "|           Australia|Not a Cellar Sele...|                Rare|                 100|                 300|            Victoria|          Rutherglen|                null|              Muscat|Chambers Rosewood...|\n",
            "|               Italy|This small, famil...|    Guado de' Gemoli|                 100|                 195|             Tuscany|  Bolgheri Superiore|                null|           Red Blend|  Giovanni Chiappini|\n",
            "+--------------------+--------------------+--------------------+--------------------+--------------------+--------------------+--------------------+--------------------+--------------------+--------------------+\n",
            "only showing top 50 rows\n",
            "\n"
          ]
        }
      ]
    },
    {
      "cell_type": "code",
      "source": [
        "# find the avg of a particular column\n",
        "from pyspark.sql.functions import avg\n",
        "df.select(avg(\"points\")).show()"
      ],
      "metadata": {
        "colab": {
          "base_uri": "https://localhost:8080/"
        },
        "id": "A77XZjtyA-8Z",
        "outputId": "344f2d5b-d75b-47fd-e50b-72fe526494b1"
      },
      "execution_count": 12,
      "outputs": [
        {
          "output_type": "stream",
          "name": "stdout",
          "text": [
            "+-----------------+\n",
            "|      avg(points)|\n",
            "+-----------------+\n",
            "|87.88834105383143|\n",
            "+-----------------+\n",
            "\n"
          ]
        }
      ]
    },
    {
      "cell_type": "code",
      "source": [
        "df.filter(\"price<20\").select(['country', 'points', 'price']).show(10)"
      ],
      "metadata": {
        "colab": {
          "base_uri": "https://localhost:8080/"
        },
        "id": "NagTP3xqA-_B",
        "outputId": "37b7cbdb-2202-4e41-f7ba-0cab6d06a7c6"
      },
      "execution_count": 19,
      "outputs": [
        {
          "output_type": "stream",
          "name": "stdout",
          "text": [
            "+--------+------+-----+\n",
            "| country|points|price|\n",
            "+--------+------+-----+\n",
            "|Bulgaria|    90|   15|\n",
            "|   Spain|    90|   17|\n",
            "|      US|    90|   18|\n",
            "|      US|    91|   19|\n",
            "|Portugal|    91|   15|\n",
            "|      US|    86|   10|\n",
            "|Portugal|    86|   12|\n",
            "|      US|    86|   13|\n",
            "|Portugal|    86|   10|\n",
            "|  France|    86|   14|\n",
            "+--------+------+-----+\n",
            "only showing top 10 rows\n",
            "\n"
          ]
        }
      ]
    },
    {
      "cell_type": "code",
      "source": [
        "# filter on country\n",
        "df.filter((df['province'] == \"California\") & (df['price'] > 15)).show()"
      ],
      "metadata": {
        "colab": {
          "base_uri": "https://localhost:8080/"
        },
        "id": "sUJPpM7DDXyn",
        "outputId": "6a3bca5c-2d00-468b-9ba4-dd8ae5345236"
      },
      "execution_count": 36,
      "outputs": [
        {
          "output_type": "stream",
          "name": "stdout",
          "text": [
            "+-------+--------------------+--------------------+------+-----+----------+--------------------+-------------+------------------+--------------------+\n",
            "|country|         description|         designation|points|price|  province|            region_1|     region_2|           variety|              winery|\n",
            "+-------+--------------------+--------------------+------+-----+----------+--------------------+-------------+------------------+--------------------+\n",
            "|     US|This tremendous 1...|   Martha's Vineyard|    96|  235|California|         Napa Valley|         Napa|Cabernet Sauvignon|               Heitz|\n",
            "|     US|Mac Watson honors...|Special Selected ...|    96|   90|California|      Knights Valley|       Sonoma|   Sauvignon Blanc|            Macauley|\n",
            "|     US|The producer sour...|Gap's Crown Vineyard|    95|   60|California|        Sonoma Coast|       Sonoma|        Pinot Noir|           Blue Farm|\n",
            "|     US|This blockbuster,...|     Rainin Vineyard|    95|  325|California|Diamond Mountain ...|         Napa|Cabernet Sauvignon|                Hall|\n",
            "|     US|This fresh and li...|Gap's Crown Vineyard|    95|   75|California|        Sonoma Coast|       Sonoma|        Pinot Noir|        Gary Farrell|\n",
            "|     US|Heitz has made th...|          Grignolino|    95|   24|California|         Napa Valley|         Napa|              Ros̩|               Heitz|\n",
            "|     US|The apogee of thi...|       Giallo Solare|    95|   60|California|         Edna Valley|Central Coast|        Chardonnay|    Center of Effort|\n",
            "|     US|San Jose-based pr...|       R-Bar-R Ranch|    95|   45|California|Santa Cruz Mountains|Central Coast|        Pinot Noir|            Comartin|\n",
            "|     US|Cranberry, baked ...|     Garys' Vineyard|    94|   60|California|Santa Lucia Highl...|Central Coast|        Pinot Noir|                Roar|\n",
            "|     US|Steely and perfum...|            Babushka|    90|   37|California|Russian River Valley|       Sonoma|        Chardonnay|            Zepaltas|\n",
            "|     US|Blended with 9% M...|        Estate Grown|    90|   60|California|        Mount Veeder|         Napa|Cabernet Sauvignon|            Brandlin|\n",
            "|     US|There's a lot to ...|                null|    90|   18|California|Russian River Valley|       Sonoma|        Chardonnay|            De Loach|\n",
            "|     US|Fresh boysenberri...|       Estate Select|    91|   36|California|  Santa Clara Valley|Central Coast|             Syrah|      Jason-Stephens|\n",
            "|     US|From the producer...|               Animo|    91|   85|California|         Napa Valley|         Napa|Cabernet Sauvignon|Michael Mondavi F...|\n",
            "|     US|A juiciness of ch...|       Barrel Select|    91|   60|California|          Rutherford|         Napa|Cabernet Sauvignon|Provenance Vineyards|\n",
            "|     US|Sweetened tannins...| District Collection|    91|   85|California|          St. Helena|         Napa|Cabernet Sauvignon|             Raymond|\n",
            "|     US|This wine draws f...|                null|    91|   45|California|        Sonoma Coast|       Sonoma|        Pinot Noir|             Red Car|\n",
            "|     US|Given four months...|    Juliana Vineyard|    91|   38|California|         Napa Valley|         Napa|   Sauvignon Blanc|           B Cellars|\n",
            "|     US|This wine over-de...|                null|    91|   28|California|         Napa Valley|         Napa|Cabernet Sauvignon|              B Side|\n",
            "|     US|From a multiplici...|                null|    91|   22|California|         Napa Valley|         Napa|Cabernet Sauvignon|          Eagle Glen|\n",
            "+-------+--------------------+--------------------+------+-----+----------+--------------------+-------------+------------------+--------------------+\n",
            "only showing top 20 rows\n",
            "\n"
          ]
        }
      ]
    },
    {
      "cell_type": "code",
      "source": [
        ""
      ],
      "metadata": {
        "id": "3IYKJ_wkDX19"
      },
      "execution_count": null,
      "outputs": []
    },
    {
      "cell_type": "code",
      "source": [
        ""
      ],
      "metadata": {
        "id": "XBA63moDDX4v"
      },
      "execution_count": null,
      "outputs": []
    },
    {
      "cell_type": "code",
      "source": [
        ""
      ],
      "metadata": {
        "id": "Dy4a9bQkDX7B"
      },
      "execution_count": null,
      "outputs": []
    }
  ]
}