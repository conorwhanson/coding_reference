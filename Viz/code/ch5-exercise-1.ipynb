{
 "cells": [
  {
   "cell_type": "markdown",
   "id": "659d052e",
   "metadata": {},
   "source": [
    "### Chapter 5 Seaborn Data Visualization\n",
    "\n",
    "Exercise 1"
   ]
  },
  {
   "cell_type": "code",
   "execution_count": null,
   "id": "d957ce93",
   "metadata": {},
   "outputs": [],
   "source": [
    "from pathlib import Path\n",
    "import pandas as pd\n",
    "import numpy as np\n",
    "import seaborn as sns"
   ]
  },
  {
   "cell_type": "code",
   "execution_count": null,
   "id": "1334f682",
   "metadata": {},
   "outputs": [],
   "source": [
    "src_file = Path.cwd() / 'data' / 'raw' / 'EPA_fuel_economy_summary.csv'\n",
    "df = pd.read_csv(src_file)"
   ]
  },
  {
   "cell_type": "code",
   "execution_count": null,
   "id": "0928856a",
   "metadata": {},
   "outputs": [],
   "source": [
    "df.head()"
   ]
  },
  {
   "cell_type": "code",
   "execution_count": null,
   "id": "7b4b688c",
   "metadata": {},
   "outputs": [],
   "source": [
    "sns.set_style('darkgrid')"
   ]
  },
  {
   "cell_type": "code",
   "execution_count": null,
   "id": "544ef544",
   "metadata": {},
   "outputs": [],
   "source": [
    "sns.displot(df, x='comb08')"
   ]
  },
  {
   "cell_type": "code",
   "execution_count": null,
   "id": "7e2c45dd",
   "metadata": {},
   "outputs": [],
   "source": [
    "sns.displot(data=df, x='comb08', kind='kde')"
   ]
  },
  {
   "cell_type": "code",
   "execution_count": null,
   "id": "4ba1cbdd",
   "metadata": {},
   "outputs": [],
   "source": [
    "sns.displot(data=df, x='comb08', kind='ecdf')"
   ]
  },
  {
   "cell_type": "code",
   "execution_count": null,
   "id": "72c6f578",
   "metadata": {},
   "outputs": [],
   "source": [
    "sns.displot(data=df, x='comb08', kind='kde', rug=True)"
   ]
  },
  {
   "cell_type": "code",
   "execution_count": null,
   "id": "5a14ad67",
   "metadata": {},
   "outputs": [],
   "source": [
    "# Returns an Axes object (Matplotlib)\n",
    "sns.histplot(data=df, x='comb08')"
   ]
  },
  {
   "cell_type": "code",
   "execution_count": null,
   "id": "6bab5ed4",
   "metadata": {},
   "outputs": [],
   "source": [
    "# Returns a Seaborn FacetGrid object\n",
    "sns.displot(data=df, x='comb08')"
   ]
  },
  {
   "cell_type": "code",
   "execution_count": null,
   "id": "26262c59",
   "metadata": {},
   "outputs": [],
   "source": [
    "sns.catplot(data=df, x='comb08')"
   ]
  },
  {
   "cell_type": "code",
   "execution_count": null,
   "id": "9aa62cb7",
   "metadata": {},
   "outputs": [],
   "source": [
    "sns.stripplot(data=df, x='comb08')"
   ]
  },
  {
   "cell_type": "code",
   "execution_count": null,
   "id": "4bf0a696",
   "metadata": {},
   "outputs": [],
   "source": [
    "sns.catplot(data=df, y='comb08', kind='box')"
   ]
  },
  {
   "cell_type": "code",
   "execution_count": null,
   "id": "c0957e1f",
   "metadata": {},
   "outputs": [],
   "source": [
    "sns.catplot(data=df, y='comb08', kind='boxen')"
   ]
  },
  {
   "cell_type": "code",
   "execution_count": null,
   "id": "98234d91",
   "metadata": {},
   "outputs": [],
   "source": [
    "sns.catplot(data=df, y='comb08', kind='violin')"
   ]
  },
  {
   "cell_type": "code",
   "execution_count": null,
   "id": "e34b7b04",
   "metadata": {},
   "outputs": [],
   "source": [
    "sns.catplot(data=df, y='comb08', kind='bar')"
   ]
  },
  {
   "cell_type": "code",
   "execution_count": null,
   "id": "830fde97",
   "metadata": {},
   "outputs": [],
   "source": [
    "# Automatically calculates avg combined mpg in the background\n",
    "sns.catplot(data=df, \n",
    "            y='comb08', \n",
    "            x='cylinders',\n",
    "            kind='bar')"
   ]
  },
  {
   "cell_type": "code",
   "execution_count": null,
   "id": "aab705ec",
   "metadata": {},
   "outputs": [],
   "source": [
    "sns.catplot(data=df, y='comb08', kind='point')"
   ]
  },
  {
   "cell_type": "code",
   "execution_count": null,
   "id": "8d740235",
   "metadata": {},
   "outputs": [],
   "source": [
    "sns.catplot(data=df, \n",
    "            y='comb08', \n",
    "            x='cylinders',\n",
    "            kind='point')"
   ]
  },
  {
   "cell_type": "code",
   "execution_count": null,
   "id": "a00e0bdd",
   "metadata": {},
   "outputs": [],
   "source": [
    "sns.relplot(data=df, x='cylinders', y='comb08')"
   ]
  },
  {
   "cell_type": "code",
   "execution_count": null,
   "id": "2530be3d",
   "metadata": {},
   "outputs": [],
   "source": [
    "sns.scatterplot(data=df, x='cylinders', y='comb08')"
   ]
  },
  {
   "cell_type": "code",
   "execution_count": null,
   "id": "135e31a6",
   "metadata": {},
   "outputs": [],
   "source": [
    "sns.relplot(data=df, x='cylinders', y='comb08', kind='line')"
   ]
  },
  {
   "cell_type": "code",
   "execution_count": null,
   "id": "ad3790c7",
   "metadata": {},
   "outputs": [],
   "source": [
    "sns.relplot(data=df, x='cylinders', y='comb08', kind='line', hue='transmission')"
   ]
  },
  {
   "cell_type": "code",
   "execution_count": null,
   "id": "cf92640a",
   "metadata": {},
   "outputs": [],
   "source": []
  }
 ],
 "metadata": {
  "kernelspec": {
   "display_name": "3.11.8",
   "language": "python",
   "name": "python3"
  },
  "language_info": {
   "codemirror_mode": {
    "name": "ipython",
    "version": 3
   },
   "file_extension": ".py",
   "mimetype": "text/x-python",
   "name": "python",
   "nbconvert_exporter": "python",
   "pygments_lexer": "ipython3",
   "version": "3.11.8"
  }
 },
 "nbformat": 4,
 "nbformat_minor": 5
}
