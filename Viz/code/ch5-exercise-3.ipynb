{
 "cells": [
  {
   "cell_type": "markdown",
   "id": "7fdcd66b",
   "metadata": {},
   "source": [
    "### Chapter 5 Seaborn Data Visualization\n",
    "\n",
    "Exercise 3"
   ]
  },
  {
   "cell_type": "code",
   "execution_count": null,
   "id": "7aba626a",
   "metadata": {},
   "outputs": [],
   "source": [
    "from pathlib import Path\n",
    "import pandas as pd\n",
    "import numpy as np\n",
    "import seaborn as sns\n",
    "import matplotlib.pyplot as plt"
   ]
  },
  {
   "cell_type": "code",
   "execution_count": null,
   "id": "e55c9b74",
   "metadata": {},
   "outputs": [],
   "source": [
    "src_file = Path.cwd() / 'data' / 'raw' / 'EPA_fuel_economy_summary.csv'\n",
    "df = pd.read_csv(src_file)"
   ]
  },
  {
   "cell_type": "code",
   "execution_count": null,
   "id": "887333aa",
   "metadata": {},
   "outputs": [],
   "source": [
    "df.head()"
   ]
  },
  {
   "cell_type": "code",
   "execution_count": null,
   "id": "3e26efe6",
   "metadata": {},
   "outputs": [],
   "source": [
    "sns.set_style('whitegrid')"
   ]
  },
  {
   "cell_type": "code",
   "execution_count": null,
   "id": "2edf666e",
   "metadata": {},
   "outputs": [],
   "source": [
    "fuel_class = pd.crosstab(df['class_summary'], \n",
    "                         df['fuel_type_summary'], \n",
    "                         values=df['comb08'], \n",
    "                         aggfunc='mean')\n",
    "fuel_class"
   ]
  },
  {
   "cell_type": "code",
   "execution_count": null,
   "id": "dd7a43d9",
   "metadata": {},
   "outputs": [],
   "source": [
    "sns.heatmap(fuel_class)"
   ]
  },
  {
   "cell_type": "code",
   "execution_count": null,
   "id": "1f7e766b",
   "metadata": {},
   "outputs": [],
   "source": [
    "sns.heatmap(fuel_class, \n",
    "            annot=True, \n",
    "            fmt='.0f', \n",
    "            cmap=\"YlGnBu\")"
   ]
  },
  {
   "cell_type": "code",
   "execution_count": null,
   "id": "cb66869b",
   "metadata": {},
   "outputs": [],
   "source": [
    "fig, ax = plt.subplots(figsize=(8,5))\n",
    "sns.heatmap(fuel_class, annot=True, fmt='.0f', cmap=\"icefire\", ax=ax)\n",
    "ax.set_ylabel('Car Type')\n",
    "ax.set_xlabel('Fuel Type')\n",
    "# fig.savefig('seaborn_heatmap.svg')"
   ]
  },
  {
   "cell_type": "code",
   "execution_count": null,
   "id": "a90f0408",
   "metadata": {},
   "outputs": [],
   "source": [
    "sns.palplot(sns.diverging_palette(240, 10, n=9))"
   ]
  },
  {
   "cell_type": "code",
   "execution_count": null,
   "id": "44685ce8",
   "metadata": {},
   "outputs": [],
   "source": [
    "sns.palplot(sns.light_palette(\"purple\"))"
   ]
  },
  {
   "cell_type": "code",
   "execution_count": null,
   "id": "cc647d5d",
   "metadata": {},
   "outputs": [],
   "source": [
    "fig, ax = plt.subplots(figsize=(8,5))\n",
    "custom_cmap_2 = sns.light_palette(\"green\", as_cmap=False)\n",
    "sns.heatmap(fuel_class, annot=True, fmt='.0f', cmap=custom_cmap_2, ax=ax)\n",
    "ax.set_ylabel('Car Type')\n",
    "ax.set_xlabel('Fuel Type')"
   ]
  },
  {
   "cell_type": "code",
   "execution_count": null,
   "id": "155a23ff",
   "metadata": {},
   "outputs": [],
   "source": [
    "sns.pairplot(df)"
   ]
  },
  {
   "cell_type": "code",
   "execution_count": null,
   "id": "5987903c",
   "metadata": {},
   "outputs": [],
   "source": [
    "sns.pairplot(df, \n",
    "             x_vars=['cylinders', 'displ', 'barrels08'], \n",
    "             y_vars=['cylinders', 'displ', 'barrels08'],\n",
    "             hue='date_range')"
   ]
  },
  {
   "cell_type": "code",
   "execution_count": null,
   "id": "49160a3a",
   "metadata": {},
   "outputs": [],
   "source": [
    "sns.pairplot(df, x_vars=['cylinders', 'displ', 'barrels08'], \n",
    "             y_vars=['cylinders', 'displ', 'barrels08'],\n",
    "             kind='kde',\n",
    "             hue='drive')"
   ]
  },
  {
   "cell_type": "code",
   "execution_count": null,
   "id": "5e5ee14a",
   "metadata": {},
   "outputs": [],
   "source": [
    "sns.jointplot(data=df, x=\"barrels08\", y=\"displ\", kind='reg')"
   ]
  },
  {
   "cell_type": "code",
   "execution_count": null,
   "id": "e9b130fc",
   "metadata": {},
   "outputs": [],
   "source": [
    "sns.jointplot(data=df, x=\"barrels08\", y=\"displ\", hue=\"date_range\")"
   ]
  },
  {
   "cell_type": "code",
   "execution_count": null,
   "id": "51a6a844",
   "metadata": {},
   "outputs": [],
   "source": [
    "sns.jointplot(data=df, x=\"barrels08\", y=\"displ\", hue=\"drive\", kind=\"kde\")"
   ]
  },
  {
   "cell_type": "code",
   "execution_count": null,
   "id": "282dc777",
   "metadata": {},
   "outputs": [],
   "source": []
  }
 ],
 "metadata": {
  "kernelspec": {
   "display_name": "3.11.8",
   "language": "python",
   "name": "python3"
  },
  "language_info": {
   "codemirror_mode": {
    "name": "ipython",
    "version": 3
   },
   "file_extension": ".py",
   "mimetype": "text/x-python",
   "name": "python",
   "nbconvert_exporter": "python",
   "pygments_lexer": "ipython3",
   "version": "3.11.8"
  }
 },
 "nbformat": 4,
 "nbformat_minor": 5
}
