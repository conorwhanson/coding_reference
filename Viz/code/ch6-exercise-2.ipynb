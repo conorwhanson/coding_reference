{
 "cells": [
  {
   "cell_type": "markdown",
   "id": "3cebc250",
   "metadata": {},
   "source": [
    "## Chapter 6 Altair Data Visualization\n",
    "Exercise 2"
   ]
  },
  {
   "cell_type": "code",
   "execution_count": null,
   "id": "909ae279",
   "metadata": {},
   "outputs": [],
   "source": [
    "from pathlib import Path\n",
    "import pandas as pd\n",
    "import numpy as np\n",
    "import altair as alt"
   ]
  },
  {
   "cell_type": "code",
   "execution_count": null,
   "id": "70efbb1c",
   "metadata": {},
   "outputs": [],
   "source": [
    "# data_server seems to have been removed but there doesn't\n",
    "# seem to be an announcement (or we missed it). \n",
    "# Moving to vegafusion will make it all sign again.\n",
    "\n",
    "# alt.data_transformers.enable('data_server')\n",
    "\n",
    "alt.data_transformers.enable('vegafusion')"
   ]
  },
  {
   "cell_type": "code",
   "execution_count": null,
   "id": "3c6745dd",
   "metadata": {},
   "outputs": [],
   "source": [
    "src_file = Path.cwd() / 'data' / 'raw' / 'EPA_fuel_economy_summary.csv'\n",
    "df = pd.read_csv(src_file)\n",
    "df.head()"
   ]
  },
  {
   "cell_type": "code",
   "execution_count": null,
   "id": "55cae40c",
   "metadata": {},
   "outputs": [],
   "source": [
    "alt.Chart(df).mark_circle(size=50).encode(\n",
    "    x='displ',\n",
    "    y='fuelCost08',\n",
    "    tooltip=['make', 'model', 'year'],\n",
    ").interactive()"
   ]
  },
  {
   "cell_type": "code",
   "execution_count": null,
   "id": "38f2ceca",
   "metadata": {},
   "outputs": [],
   "source": [
    "chart1 = alt.Chart(df).mark_tick().encode(\n",
    "    y='fuel_type_summary',\n",
    "    x='barrels08'\n",
    ")\n",
    "chart2 = alt.Chart(df).mark_bar().encode(\n",
    "    alt.X('barrels08:Q', bin=True),\n",
    "    alt.Y('count()')\n",
    ")\n",
    "chart1 | chart2"
   ]
  },
  {
   "cell_type": "code",
   "execution_count": null,
   "id": "538830f6",
   "metadata": {},
   "outputs": [],
   "source": [
    "chart2 & chart1"
   ]
  },
  {
   "cell_type": "code",
   "execution_count": null,
   "id": "3bdfad56",
   "metadata": {},
   "outputs": [],
   "source": [
    "alt.hconcat(chart1, chart2)"
   ]
  },
  {
   "cell_type": "code",
   "execution_count": null,
   "id": "46778465",
   "metadata": {},
   "outputs": [],
   "source": [
    "alt.vconcat(chart1, chart2)"
   ]
  },
  {
   "cell_type": "code",
   "execution_count": null,
   "id": "98137673",
   "metadata": {},
   "outputs": [],
   "source": [
    "alt.Chart(df).mark_circle(size=50).encode(\n",
    "    x='displ',\n",
    "    y='fuelCost08',\n",
    "    color='class_summary:N',\n",
    "    tooltip=['make', 'model', 'year'],\n",
    ").facet(row='class_summary:N')"
   ]
  },
  {
   "cell_type": "code",
   "execution_count": null,
   "id": "d6c7f7dc",
   "metadata": {},
   "outputs": [],
   "source": [
    "alt.Chart(df).mark_circle(size=50).encode(\n",
    "    x='displ',\n",
    "    y='fuelCost08',\n",
    "    color='class_summary:N',\n",
    "    tooltip=['make', 'model', 'year'],\n",
    ").facet('class_summary:N', columns=2)"
   ]
  },
  {
   "cell_type": "code",
   "execution_count": null,
   "id": "071e7c16",
   "metadata": {},
   "outputs": [],
   "source": [
    "base_chart = alt.Chart(df).mark_circle(size=50).encode(\n",
    "    x='displ',\n",
    "    y='fuelCost08',\n",
    "    color='class_summary:N',\n",
    "    tooltip=['make', 'model', 'year'],\n",
    ")\n",
    "\n",
    "base_chart.facet('class_summary:N', columns=2)"
   ]
  },
  {
   "cell_type": "code",
   "execution_count": null,
   "id": "9b35b7e1",
   "metadata": {},
   "outputs": [],
   "source": [
    "bars = alt.Chart(df).mark_bar().encode(\n",
    "    x='mean(fuelCost08):Q',\n",
    "    y='year:O'\n",
    ")\n",
    "bars"
   ]
  },
  {
   "cell_type": "code",
   "execution_count": null,
   "id": "1ac960a3",
   "metadata": {},
   "outputs": [],
   "source": [
    "rule = alt.Chart(df).mark_rule(color='red').encode(\n",
    "    x='mean(fuelCost08):Q'\n",
    ")\n",
    "bars + rule"
   ]
  },
  {
   "cell_type": "code",
   "execution_count": null,
   "id": "ab415527",
   "metadata": {},
   "outputs": [],
   "source": [
    "text = bars.mark_text(\n",
    "    align='left', dx=3).encode(text=alt.Text('mean(fuelCost08):Q', format=',.0f'))\n",
    "(bars + rule + text)"
   ]
  },
  {
   "cell_type": "code",
   "execution_count": null,
   "id": "92297ff2",
   "metadata": {},
   "outputs": [],
   "source": [
    "(bars + rule + text).properties(width=700)"
   ]
  }
 ],
 "metadata": {
  "kernelspec": {
   "display_name": "Python 3 (ipykernel)",
   "language": "python",
   "name": "python3"
  },
  "language_info": {
   "codemirror_mode": {
    "name": "ipython",
    "version": 3
   },
   "file_extension": ".py",
   "mimetype": "text/x-python",
   "name": "python",
   "nbconvert_exporter": "python",
   "pygments_lexer": "ipython3",
   "version": "3.12.0"
  }
 },
 "nbformat": 4,
 "nbformat_minor": 5
}
