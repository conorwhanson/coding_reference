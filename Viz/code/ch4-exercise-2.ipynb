{
 "cells": [
  {
   "cell_type": "markdown",
   "id": "12383ae2",
   "metadata": {},
   "source": [
    "### Chapter 4 Pandas Data Visualization\n",
    "\n",
    "Exercise 2"
   ]
  },
  {
   "cell_type": "code",
   "execution_count": null,
   "id": "09bc49a3",
   "metadata": {},
   "outputs": [],
   "source": [
    "from pathlib import Path\n",
    "import pandas as pd\n",
    "import numpy as np\n",
    "import matplotlib.pyplot as plt\n",
    "from matplotlib import ticker\n",
    "from pandas.plotting import scatter_matrix, andrews_curves, parallel_coordinates, radviz"
   ]
  },
  {
   "cell_type": "code",
   "execution_count": null,
   "id": "210d3197",
   "metadata": {},
   "outputs": [],
   "source": [
    "src_file = Path.cwd() / 'data' / 'raw' / 'EPA_fuel_economy.csv'"
   ]
  },
  {
   "cell_type": "code",
   "execution_count": null,
   "id": "5b9acd0e",
   "metadata": {},
   "outputs": [],
   "source": [
    "df = pd.read_csv(src_file)"
   ]
  },
  {
   "cell_type": "code",
   "execution_count": null,
   "id": "090052c5",
   "metadata": {},
   "outputs": [],
   "source": [
    "df.head()"
   ]
  },
  {
   "cell_type": "code",
   "execution_count": null,
   "id": "3c9bd929",
   "metadata": {},
   "outputs": [],
   "source": [
    "scatter_matrix(df, alpha=0.2, figsize=(12,12));"
   ]
  },
  {
   "cell_type": "code",
   "execution_count": null,
   "id": "2d432d99",
   "metadata": {},
   "outputs": [],
   "source": [
    "df['VClass'].value_counts()"
   ]
  },
  {
   "cell_type": "code",
   "execution_count": null,
   "id": "d750f9e5",
   "metadata": {},
   "outputs": [],
   "source": [
    "car_class = ['Compact Cars', 'Midsize Cars', 'Subcompact Cars', 'Large Cars']\n",
    "car_class_df = df[['cylinders', 'fuelCost08', 'co2', 'VClass']].query('VClass == @car_class').copy()"
   ]
  },
  {
   "cell_type": "code",
   "execution_count": null,
   "id": "239c12b0",
   "metadata": {},
   "outputs": [],
   "source": [
    "car_class_df"
   ]
  },
  {
   "cell_type": "code",
   "execution_count": null,
   "id": "bb9f4075",
   "metadata": {},
   "outputs": [],
   "source": [
    "scatter_matrix(car_class_df, alpha=0.2, figsize=(12, 12));"
   ]
  },
  {
   "cell_type": "code",
   "execution_count": null,
   "id": "8ee60157",
   "metadata": {},
   "outputs": [],
   "source": [
    "fig, ax1 = plt.subplots(figsize=(10,4))\n",
    "andrews_curves(car_class_df, 'VClass', ax=ax1)\n",
    "ax1.legend(loc='upper left');"
   ]
  },
  {
   "cell_type": "code",
   "execution_count": null,
   "id": "d1e64775",
   "metadata": {},
   "outputs": [],
   "source": [
    "fig, ax1 = plt.subplots(figsize=(10,4))\n",
    "parallel_coordinates(car_class_df, 'VClass', ax=ax1);"
   ]
  },
  {
   "cell_type": "code",
   "execution_count": null,
   "id": "7d8f7a16",
   "metadata": {},
   "outputs": [],
   "source": [
    "fig, ax1 = plt.subplots(figsize=(10,5))\n",
    "radviz(car_class_df, 'VClass', ax= ax1, alpha=0.75);"
   ]
  },
  {
   "cell_type": "code",
   "execution_count": null,
   "id": "e2bfd294",
   "metadata": {},
   "outputs": [],
   "source": [
    "fig, (ax1, ax2, ax3) = plt.subplots(figsize=(8,10), nrows=3, ncols=1)\n",
    "andrews_curves(car_class_df, 'VClass', ax=ax1)\n",
    "ax1.legend(loc='upper left')\n",
    "parallel_coordinates(car_class_df, 'VClass', ax=ax2)\n",
    "radviz(car_class_df, 'VClass', ax=ax3, alpha=0.75);"
   ]
  },
  {
   "cell_type": "code",
   "execution_count": null,
   "id": "a10c70b5",
   "metadata": {},
   "outputs": [],
   "source": []
  }
 ],
 "metadata": {
  "kernelspec": {
   "display_name": "3.11.8",
   "language": "python",
   "name": "python3"
  },
  "language_info": {
   "codemirror_mode": {
    "name": "ipython",
    "version": 3
   },
   "file_extension": ".py",
   "mimetype": "text/x-python",
   "name": "python",
   "nbconvert_exporter": "python",
   "pygments_lexer": "ipython3",
   "version": "3.11.8"
  }
 },
 "nbformat": 4,
 "nbformat_minor": 5
}
