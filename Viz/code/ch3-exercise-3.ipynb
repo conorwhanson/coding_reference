{
 "cells": [
  {
   "cell_type": "markdown",
   "id": "2659304d",
   "metadata": {},
   "source": [
    "### Chapter 3 Matplotlib Data Visualization\n",
    "\n",
    "Exercise 3"
   ]
  },
  {
   "cell_type": "code",
   "execution_count": null,
   "id": "8be87053",
   "metadata": {},
   "outputs": [],
   "source": [
    "from pathlib import Path\n",
    "import pandas as pd\n",
    "import numpy as np\n",
    "import matplotlib.pyplot as plt\n",
    "import matplotlib as mpl\n",
    "from matplotlib import ticker\n",
    "import statsmodels.formula.api as smf"
   ]
  },
  {
   "cell_type": "code",
   "execution_count": null,
   "id": "7672c4e6",
   "metadata": {},
   "outputs": [],
   "source": [
    "src_file = Path.cwd() / 'data' / 'raw' / 'EPA_fuel_economy.csv'\n",
    "image_dir = Path.cwd() / 'images'"
   ]
  },
  {
   "cell_type": "code",
   "execution_count": null,
   "id": "bd06540b",
   "metadata": {},
   "outputs": [],
   "source": [
    "df = pd.read_csv(src_file)"
   ]
  },
  {
   "cell_type": "code",
   "execution_count": null,
   "id": "fe1c5dec",
   "metadata": {},
   "outputs": [],
   "source": [
    "df.head()"
   ]
  },
  {
   "cell_type": "code",
   "execution_count": null,
   "id": "d0b63dde",
   "metadata": {},
   "outputs": [],
   "source": [
    "%matplotlib inline"
   ]
  },
  {
   "cell_type": "code",
   "execution_count": null,
   "id": "01181bed",
   "metadata": {},
   "outputs": [],
   "source": [
    "avg_by_year = df.groupby(['year'], as_index = False).agg({'fuelCost08': 'mean'}).round(2)\n",
    "avg_by_year"
   ]
  },
  {
   "cell_type": "code",
   "execution_count": null,
   "id": "02d213d7",
   "metadata": {},
   "outputs": [],
   "source": [
    "mpg_model = smf.ols(\"fuelCost08 ~ year\", data = avg_by_year).fit()"
   ]
  },
  {
   "cell_type": "code",
   "execution_count": null,
   "id": "343ec311",
   "metadata": {},
   "outputs": [],
   "source": [
    "mpg_model.fittedvalues"
   ]
  },
  {
   "cell_type": "code",
   "execution_count": null,
   "id": "8bf69ac9",
   "metadata": {},
   "outputs": [],
   "source": [
    "mpg_model.summary()"
   ]
  },
  {
   "cell_type": "code",
   "execution_count": null,
   "id": "a715f8b7",
   "metadata": {},
   "outputs": [],
   "source": [
    "fig, ax = plt.subplots()\n",
    "ax.scatter(x = avg_by_year['year'], y = avg_by_year['fuelCost08'])\n",
    "ax.plot(avg_by_year['year'], mpg_model.fittedvalues);"
   ]
  },
  {
   "cell_type": "code",
   "execution_count": null,
   "id": "9a3a36f7",
   "metadata": {},
   "outputs": [],
   "source": [
    "fig, ax = plt.subplots()\n",
    "ax.scatter(x = avg_by_year['year'], y = avg_by_year['fuelCost08'])\n",
    "ax.plot(avg_by_year['year'], mpg_model.fittedvalues)\n",
    "ax.set_xlim((2010,2020))\n",
    "ax.set_ylim((1800,2200));"
   ]
  },
  {
   "cell_type": "code",
   "execution_count": null,
   "id": "f49c42e4",
   "metadata": {},
   "outputs": [],
   "source": [
    "df_2010 = df.query('year >= 2010').copy()\n",
    "avg_fuel_cost = df_2010['fuelCost08'].mean().round(0)\n",
    "avg_fuel_cost"
   ]
  },
  {
   "cell_type": "code",
   "execution_count": null,
   "id": "a24166c0",
   "metadata": {},
   "outputs": [],
   "source": [
    "mpl.style.use('ggplot')\n",
    "fig, (ax1, ax2) = plt.subplots(nrows=1, ncols=2, \n",
    "                               figsize=(12,6))\n",
    "\n",
    "ax1.scatter(x=avg_by_year['year'], \n",
    "            y=avg_by_year['fuelCost08'])\n",
    "ax1.plot(avg_by_year['year'], \n",
    "         mpg_model.fittedvalues, \n",
    "         color='forestgreen', linestyle='--')\n",
    "\n",
    "ax1.set(xlabel='Year', ylabel='Fuel Cost', \n",
    "        ylim=(1850, 2200), xlim=(2010,2020))\n",
    "ax1.yaxis.set_major_formatter('${x:,.0f}')\n",
    "ax1.axhline(avg_fuel_cost, linestyle=':', color='orange')\n",
    "ax1.annotate(f'${avg_fuel_cost}', xy=(2017, avg_fuel_cost))\n",
    "\n",
    "ax2.hist(df_2010['fuelCost08'], color = \"skyblue\", ec=\"white\")\n",
    "ax2.xaxis.set_major_formatter('${x:,.0f}')\n",
    "ax2.set(xlabel='Fuel Costs', ylabel='Num autos')\n",
    "ax2.axvline(avg_fuel_cost, linestyle=':')\n",
    "ax2.annotate(f'${avg_fuel_cost}', xy=(avg_fuel_cost, 3500))\n",
    "\n",
    "fig.suptitle('EPA Estimated FuelCosts', \n",
    "             weight='bold', size=14)\n",
    "fig.savefig(image_dir/'line_hist.png', \n",
    "            transparent=False, dpi=200, bbox_inches=\"tight\")"
   ]
  },
  {
   "cell_type": "code",
   "execution_count": null,
   "id": "7416766b",
   "metadata": {},
   "outputs": [],
   "source": []
  }
 ],
 "metadata": {
  "kernelspec": {
   "display_name": "3.11.8",
   "language": "python",
   "name": "python3"
  },
  "language_info": {
   "codemirror_mode": {
    "name": "ipython",
    "version": 3
   },
   "file_extension": ".py",
   "mimetype": "text/x-python",
   "name": "python",
   "nbconvert_exporter": "python",
   "pygments_lexer": "ipython3",
   "version": "3.11.8"
  }
 },
 "nbformat": 4,
 "nbformat_minor": 5
}
