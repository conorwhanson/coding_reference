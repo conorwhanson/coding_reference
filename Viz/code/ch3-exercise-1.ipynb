{
 "cells": [
  {
   "cell_type": "markdown",
   "id": "e2b9c37e",
   "metadata": {},
   "source": [
    "### Chapter 3 Matplotlib Data Visualization\n",
    "\n",
    "Exercise 1"
   ]
  },
  {
   "cell_type": "code",
   "execution_count": null,
   "id": "ea3165e5",
   "metadata": {},
   "outputs": [],
   "source": [
    "from pathlib import Path\n",
    "import pandas as pd\n",
    "import numpy as np\n",
    "import matplotlib.pyplot as plt\n",
    "from matplotlib import ticker"
   ]
  },
  {
   "cell_type": "code",
   "execution_count": null,
   "id": "e0c6ce4f",
   "metadata": {},
   "outputs": [],
   "source": [
    "src_file = Path.cwd() / 'data' / 'raw' / 'EPA_fuel_economy.csv'\n",
    "image_dir = Path.cwd() / 'images'"
   ]
  },
  {
   "cell_type": "code",
   "execution_count": null,
   "id": "4646e208",
   "metadata": {},
   "outputs": [],
   "source": [
    "df = pd.read_csv(src_file)"
   ]
  },
  {
   "cell_type": "code",
   "execution_count": null,
   "id": "f5a62a92",
   "metadata": {},
   "outputs": [],
   "source": [
    "df.head()"
   ]
  },
  {
   "cell_type": "code",
   "execution_count": null,
   "id": "d82adcd8",
   "metadata": {},
   "outputs": [],
   "source": [
    "df.info()"
   ]
  },
  {
   "cell_type": "code",
   "execution_count": null,
   "id": "e821e173",
   "metadata": {},
   "outputs": [],
   "source": [
    "%matplotlib inline"
   ]
  },
  {
   "cell_type": "markdown",
   "id": "5edd1ee3",
   "metadata": {},
   "source": [
    "# State based interface (using pyplot)\n",
    "Not recommended"
   ]
  },
  {
   "cell_type": "code",
   "execution_count": null,
   "id": "5780a65b",
   "metadata": {},
   "outputs": [],
   "source": [
    "plt.hist(df['comb08'])"
   ]
  },
  {
   "cell_type": "code",
   "execution_count": null,
   "id": "55ae81e7",
   "metadata": {},
   "outputs": [],
   "source": [
    "plt.hist(df['comb08']);"
   ]
  },
  {
   "cell_type": "code",
   "execution_count": null,
   "id": "affb8a38",
   "metadata": {},
   "outputs": [],
   "source": [
    "plt.hist(df['comb08'])\n",
    "plt.xlabel('Combined Fuel Economy (MPG)')\n",
    "plt.ylabel('Number of cars')\n",
    "plt.title('Combined Fuel Economy (2000-2020)')\n",
    "plt.show()"
   ]
  },
  {
   "cell_type": "markdown",
   "id": "f33e40d3",
   "metadata": {},
   "source": [
    "# Object Oriented API\n",
    "Recommended"
   ]
  },
  {
   "cell_type": "code",
   "execution_count": null,
   "id": "0632e566",
   "metadata": {},
   "outputs": [],
   "source": [
    "fig, ax = plt.subplots()\n",
    "ax.hist(df['comb08']);"
   ]
  },
  {
   "cell_type": "code",
   "execution_count": null,
   "id": "47e005c7",
   "metadata": {},
   "outputs": [],
   "source": [
    "# %matplotlib notebook"
   ]
  },
  {
   "cell_type": "code",
   "execution_count": null,
   "id": "35ba2f16",
   "metadata": {},
   "outputs": [],
   "source": [
    "fig, ax = plt.subplots()\n",
    "ax.hist(df['comb08'])\n",
    "ax.set_xlabel('Combined Fuel Economy (MPG)')\n",
    "ax.set_ylabel('Number of cars')\n",
    "ax.set_title('Combined Fuel Economy (2000-2020)')\n",
    "# fig.show()"
   ]
  },
  {
   "cell_type": "code",
   "execution_count": null,
   "id": "355b25ca",
   "metadata": {},
   "outputs": [],
   "source": [
    "%matplotlib inline"
   ]
  },
  {
   "cell_type": "code",
   "execution_count": null,
   "id": "b7a6cfe6",
   "metadata": {},
   "outputs": [],
   "source": [
    "fig, ax = plt.subplots()\n",
    "ax.hist(df['comb08'])\n",
    "ax.set(xlabel = 'Combined Fuel Economy (MPG)',\n",
    "       ylabel = 'Number of cars',\n",
    "       title = 'Combined Fuel Economy (2000-2020)');\n"
   ]
  },
  {
   "cell_type": "code",
   "execution_count": null,
   "id": "0ac8bd04",
   "metadata": {},
   "outputs": [],
   "source": [
    "fig, ax = plt.subplots()\n",
    "ax.hist(df['comb08'], range = (10,50));"
   ]
  },
  {
   "cell_type": "code",
   "execution_count": null,
   "id": "d93c4a3f",
   "metadata": {},
   "outputs": [],
   "source": [
    "fig, ax = plt.subplots()\n",
    "ax.hist(df['comb08'], range = (10,50), cumulative = True);"
   ]
  },
  {
   "cell_type": "code",
   "execution_count": null,
   "id": "25a8521e",
   "metadata": {},
   "outputs": [],
   "source": [
    "fig, ax = plt.subplots()\n",
    "ax.hist(df['comb08'], range = (10,50), histtype = 'step', orientation = 'horizontal');"
   ]
  },
  {
   "cell_type": "code",
   "execution_count": null,
   "id": "2a802ba4",
   "metadata": {},
   "outputs": [],
   "source": [
    "fig, ax = plt.subplots()\n",
    "ax.hist(df['comb08'], range = (10,50), bins = 4);"
   ]
  },
  {
   "cell_type": "code",
   "execution_count": null,
   "id": "a9708fed",
   "metadata": {},
   "outputs": [],
   "source": [
    "fig, ax = plt.subplots()\n",
    "ax.hist(df['comb08'], range = (10,50), bins = 100);"
   ]
  },
  {
   "cell_type": "code",
   "execution_count": null,
   "id": "6fd2b3ea",
   "metadata": {},
   "outputs": [],
   "source": [
    "fig, ax = plt.subplots()\n",
    "n, bins, patches = ax.hist(df['comb08'], range = (10,50));"
   ]
  },
  {
   "cell_type": "code",
   "execution_count": null,
   "id": "ce5e8979",
   "metadata": {},
   "outputs": [],
   "source": [
    "n"
   ]
  },
  {
   "cell_type": "code",
   "execution_count": null,
   "id": "fe4d3caf",
   "metadata": {},
   "outputs": [],
   "source": [
    "bins"
   ]
  },
  {
   "cell_type": "code",
   "execution_count": null,
   "id": "6aaf50ef",
   "metadata": {},
   "outputs": [],
   "source": [
    "patches"
   ]
  },
  {
   "cell_type": "markdown",
   "id": "3fef71d6",
   "metadata": {},
   "source": [
    "## Working with Figures and Axes"
   ]
  },
  {
   "cell_type": "code",
   "execution_count": null,
   "id": "9f14e0a0",
   "metadata": {},
   "outputs": [],
   "source": [
    "fig, ax = plt.subplots(2)\n",
    "ax[0].hist(df['comb08'], range = (10,50))\n",
    "ax[1].hist(df['comb08'], range = (10,100));"
   ]
  },
  {
   "cell_type": "code",
   "execution_count": null,
   "id": "9259cc55",
   "metadata": {},
   "outputs": [],
   "source": [
    "type(ax)"
   ]
  },
  {
   "cell_type": "code",
   "execution_count": null,
   "id": "e167065a",
   "metadata": {},
   "outputs": [],
   "source": [
    "fig, (ax1, ax2) = plt.subplots(2)\n",
    "ax1.hist(df['comb08'], range = (10,50))\n",
    "ax2.hist(df['comb08'], range = (10,100));"
   ]
  },
  {
   "cell_type": "code",
   "execution_count": null,
   "id": "e5990b9d",
   "metadata": {},
   "outputs": [],
   "source": [
    "fig, ax = plt.subplots()\n",
    "ax.boxplot(df['comb08'], tick_labels = ['All'])\n",
    "ax.set(title = 'MPG Distribution', ylabel = 'MPG for vehicles');"
   ]
  },
  {
   "cell_type": "code",
   "execution_count": null,
   "id": "2b9918e0",
   "metadata": {},
   "outputs": [],
   "source": [
    "fig, ax = plt.subplots()\n",
    "ax.boxplot(df['comb08'], tick_labels = ['All'], showfliers = False)\n",
    "ax.set(title = 'MPG Distribution', ylabel = 'MPG for vehicles');"
   ]
  },
  {
   "cell_type": "code",
   "execution_count": null,
   "id": "0906fbf1",
   "metadata": {},
   "outputs": [],
   "source": [
    "fig, (ax1, ax2) = plt.subplots(2)\n",
    "ax1.hist(df['comb08'], range = (10,50))\n",
    "ax1.set(title = 'Vehicle MPG', xlabel = 'Combined MPG', ylabel = 'Number of Cars')\n",
    "\n",
    "ax2.boxplot(df['comb08'], labels = ['All'], vert = False, showfliers = False)\n",
    "ax2.set(ylabel = 'MPG for vehicles');"
   ]
  },
  {
   "cell_type": "code",
   "execution_count": null,
   "id": "55613cde",
   "metadata": {},
   "outputs": [],
   "source": [
    "fig, (ax1, ax2) = plt.subplots(2)\n",
    "ax1.hist(df['comb08'], range = (10,50))\n",
    "ax1.set(title = 'Vehicle MPG', ylabel = 'Number of Cars')\n",
    "\n",
    "ax2.boxplot(df['comb08'], tick_labels = ['All'], vert = False, showfliers = False)\n",
    "ax2.set(ylabel = 'MPG for vehicles')\n",
    "\n",
    "fig.suptitle('MPG Distribution', fontsize = 14, fontweight = 'bold');"
   ]
  },
  {
   "cell_type": "code",
   "execution_count": null,
   "id": "ce09534b",
   "metadata": {},
   "outputs": [],
   "source": [
    "fig, (ax1, ax2) = plt.subplots(nrows = 1, ncols = 2, figsize = (9,4))\n",
    "ax1.hist(df['comb08'], range = (10,50))\n",
    "ax1.set(title = 'Vehicle MPG', ylabel = 'Number of Cars')\n",
    "\n",
    "ax2.boxplot(df['comb08'], tick_labels = ['All'], vert = True, showfliers = False)\n",
    "ax2.set(ylabel = 'MPG for vehicles')\n",
    "\n",
    "fig.suptitle('MPG Distribution', fontsize = 14, fontweight = 'bold');"
   ]
  },
  {
   "cell_type": "code",
   "execution_count": null,
   "id": "8e61e182",
   "metadata": {},
   "outputs": [],
   "source": [
    "fig.savefig(image_dir/'mpg_distribution.png', transparent=True, dpi=80, bbox_inches=\"tight\")"
   ]
  },
  {
   "cell_type": "code",
   "execution_count": null,
   "id": "fb3847eb",
   "metadata": {},
   "outputs": [],
   "source": [
    "fig.savefig(image_dir/'mpg_distribution.svg', transparent=False, dpi=200, bbox_inches=\"tight\")"
   ]
  },
  {
   "cell_type": "code",
   "execution_count": null,
   "id": "7798e9bd",
   "metadata": {},
   "outputs": [],
   "source": [
    "fig.savefig(image_dir/'mpg_distribution.jpg', transparent=False, dpi=200, bbox_inches=\"tight\")"
   ]
  },
  {
   "cell_type": "code",
   "execution_count": null,
   "id": "797dcb2c",
   "metadata": {},
   "outputs": [],
   "source": [
    "fig.savefig(image_dir/'mpg_distribution.pdf', transparent=False, dpi=200, bbox_inches=\"tight\")"
   ]
  },
  {
   "cell_type": "code",
   "execution_count": null,
   "id": "2d341278",
   "metadata": {},
   "outputs": [],
   "source": [
    "fig.canvas.get_supported_filetypes()"
   ]
  },
  {
   "cell_type": "code",
   "execution_count": null,
   "id": "ee368527",
   "metadata": {},
   "outputs": [],
   "source": []
  }
 ],
 "metadata": {
  "kernelspec": {
   "display_name": "3.11.8",
   "language": "python",
   "name": "python3"
  },
  "language_info": {
   "codemirror_mode": {
    "name": "ipython",
    "version": 3
   },
   "file_extension": ".py",
   "mimetype": "text/x-python",
   "name": "python",
   "nbconvert_exporter": "python",
   "pygments_lexer": "ipython3",
   "version": "3.11.8"
  }
 },
 "nbformat": 4,
 "nbformat_minor": 5
}
