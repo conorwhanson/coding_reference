{
 "cells": [
  {
   "cell_type": "markdown",
   "id": "24828c85",
   "metadata": {},
   "source": [
    "## Chapter 6 Altair Data Visualization\n",
    "Exercise 1"
   ]
  },
  {
   "cell_type": "code",
   "execution_count": null,
   "id": "c44a7038",
   "metadata": {},
   "outputs": [],
   "source": [
    "from pathlib import Path\n",
    "import pandas as pd\n",
    "import numpy as np\n",
    "import altair as alt"
   ]
  },
  {
   "cell_type": "code",
   "execution_count": null,
   "id": "afa93459",
   "metadata": {},
   "outputs": [],
   "source": [
    "src_file = Path.cwd() / 'data' / 'raw' / 'EPA_fuel_economy_summary.csv'"
   ]
  },
  {
   "cell_type": "code",
   "execution_count": null,
   "id": "2190f191",
   "metadata": {},
   "outputs": [],
   "source": [
    "df = pd.read_csv(src_file)\n",
    "df.head()"
   ]
  },
  {
   "cell_type": "code",
   "execution_count": null,
   "id": "cbff6887",
   "metadata": {},
   "outputs": [],
   "source": [
    "alt.data_transformers.names()"
   ]
  },
  {
   "cell_type": "code",
   "execution_count": null,
   "id": "39e254bc",
   "metadata": {},
   "outputs": [],
   "source": [
    "# data_server seems to have been removed but there doesn't\n",
    "# seem to be an announcement (or we missed it). \n",
    "# Moving to vegafusion will make it all sign again.\n",
    "\n",
    "# alt.data_transformers.enable('data_server')\n",
    "\n",
    "alt.data_transformers.enable('vegafusion')"
   ]
  },
  {
   "cell_type": "code",
   "execution_count": null,
   "id": "9de36e98",
   "metadata": {},
   "outputs": [],
   "source": [
    "alt.Chart(df).mark_circle().encode(\n",
    "    x='displ',\n",
    "    y='fuelCost08',\n",
    ")"
   ]
  },
  {
   "cell_type": "code",
   "execution_count": null,
   "id": "59e5f555",
   "metadata": {},
   "outputs": [],
   "source": [
    "alt.Chart(df).mark_point().encode(\n",
    "    x='displ',\n",
    "    y='fuelCost08',\n",
    ")"
   ]
  },
  {
   "cell_type": "code",
   "execution_count": null,
   "id": "2209f687",
   "metadata": {},
   "outputs": [],
   "source": [
    "alt.Chart(df).mark_point().encode(\n",
    "    x='displ',\n",
    "    y='fuelCost08',\n",
    "    color='drive',\n",
    "    shape='drive',\n",
    ")"
   ]
  },
  {
   "cell_type": "code",
   "execution_count": null,
   "id": "a0410ea4",
   "metadata": {},
   "outputs": [],
   "source": [
    "alt.Chart(df).mark_bar().encode(\n",
    "    x='fuelCost08',\n",
    "    y='count()',\n",
    ")"
   ]
  },
  {
   "cell_type": "code",
   "execution_count": null,
   "id": "fe20ec30",
   "metadata": {},
   "outputs": [],
   "source": [
    "alt.Chart(df).mark_tick().encode(\n",
    "    y='fuel_type_summary',\n",
    "    x='barrels08'\n",
    ")"
   ]
  },
  {
   "cell_type": "code",
   "execution_count": null,
   "id": "67e239c2",
   "metadata": {},
   "outputs": [],
   "source": [
    "alt.Chart(df).mark_boxplot().encode(\n",
    "    x='year',\n",
    "    y='fuelCost08'\n",
    ")"
   ]
  },
  {
   "cell_type": "code",
   "execution_count": null,
   "id": "84d63b73",
   "metadata": {},
   "outputs": [],
   "source": [
    "alt.Chart(df).mark_boxplot().encode(\n",
    "    x='year:O',\n",
    "    y='fuelCost08:Q'\n",
    ")"
   ]
  },
  {
   "cell_type": "code",
   "execution_count": null,
   "id": "57c40450",
   "metadata": {},
   "outputs": [],
   "source": [
    "alt.Chart(df).mark_bar().encode(\n",
    "    x='mean(fuelCost08)',\n",
    "    y='year'\n",
    ")"
   ]
  },
  {
   "cell_type": "code",
   "execution_count": null,
   "id": "e345aa0f",
   "metadata": {},
   "outputs": [],
   "source": [
    "alt.Chart(df).mark_bar().encode(\n",
    "    x='mean(fuelCost08)',\n",
    "    y='year:O'\n",
    ")"
   ]
  },
  {
   "cell_type": "code",
   "execution_count": null,
   "id": "2b1de1b7",
   "metadata": {},
   "outputs": [],
   "source": [
    "alt.Chart(df).mark_bar().encode(\n",
    "    x='fuelCost08',\n",
    "    y='count()',\n",
    ")"
   ]
  },
  {
   "cell_type": "code",
   "execution_count": null,
   "id": "a656ef1b",
   "metadata": {},
   "outputs": [],
   "source": [
    "alt.Chart(df).mark_bar().encode(\n",
    "    alt.X('fuelCost08', type='quantitative', bin=True),\n",
    "    alt.Y(aggregate='count', type='quantitative'),\n",
    ")"
   ]
  },
  {
   "cell_type": "code",
   "execution_count": null,
   "id": "38989baa",
   "metadata": {},
   "outputs": [],
   "source": [
    "alt.Chart(df).mark_bar().encode(\n",
    "    alt.X('fuelCost08:Q', bin=alt.Bin(extent=[0,5000], step=250)),\n",
    "    alt.Y('count()'),\n",
    ")"
   ]
  },
  {
   "cell_type": "code",
   "execution_count": null,
   "id": "b149d438",
   "metadata": {},
   "outputs": [],
   "source": [
    "alt.Chart(df).mark_point().encode(\n",
    "    alt.X('displ', type='quantitative'),\n",
    "    alt.Y('fuelCost08'),\n",
    "    alt.Color('cylinders', type='ordinal')\n",
    ")"
   ]
  },
  {
   "cell_type": "code",
   "execution_count": null,
   "id": "63a8b75d",
   "metadata": {},
   "outputs": [],
   "source": [
    "alt.Chart(df).mark_point().encode(\n",
    "    alt.X('displ', type='quantitative'),\n",
    "    alt.Y('fuelCost08'),\n",
    "    alt.Color('cylinders', type='quantitative')\n",
    ")"
   ]
  },
  {
   "cell_type": "code",
   "execution_count": null,
   "id": "d21d2d2d",
   "metadata": {},
   "outputs": [],
   "source": [
    "alt.Chart(df).mark_point().encode(\n",
    "    alt.X('displ', type='quantitative'),\n",
    "    alt.Y('fuelCost08'),\n",
    "    alt.Color('cylinders', type='nominal')\n",
    ")"
   ]
  }
 ],
 "metadata": {
  "kernelspec": {
   "display_name": "dataviz",
   "language": "python",
   "name": "dataviz"
  },
  "language_info": {
   "codemirror_mode": {
    "name": "ipython",
    "version": 3
   },
   "file_extension": ".py",
   "mimetype": "text/x-python",
   "name": "python",
   "nbconvert_exporter": "python",
   "pygments_lexer": "ipython3",
   "version": "3.12.0"
  }
 },
 "nbformat": 4,
 "nbformat_minor": 5
}
