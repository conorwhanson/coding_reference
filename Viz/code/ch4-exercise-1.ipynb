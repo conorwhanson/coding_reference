{
 "cells": [
  {
   "cell_type": "markdown",
   "id": "21fd083f",
   "metadata": {},
   "source": [
    "### Chapter 4 Pandas Data Visualization\n",
    "\n",
    "Exercise 1"
   ]
  },
  {
   "cell_type": "code",
   "execution_count": null,
   "id": "d73a8227",
   "metadata": {},
   "outputs": [],
   "source": [
    "from pathlib import Path\n",
    "import pandas as pd\n",
    "import numpy as np\n",
    "import matplotlib.pyplot as plt\n",
    "from matplotlib import ticker"
   ]
  },
  {
   "cell_type": "code",
   "execution_count": null,
   "id": "ddb9ed79",
   "metadata": {},
   "outputs": [],
   "source": [
    "src_file = Path.cwd() / 'data' / 'raw' / 'EPA_fuel_economy.csv'"
   ]
  },
  {
   "cell_type": "code",
   "execution_count": null,
   "id": "59d5eeb3",
   "metadata": {},
   "outputs": [],
   "source": [
    "df = pd.read_csv(src_file)"
   ]
  },
  {
   "cell_type": "code",
   "execution_count": null,
   "id": "e304c263",
   "metadata": {},
   "outputs": [],
   "source": [
    "df.head()"
   ]
  },
  {
   "cell_type": "code",
   "execution_count": null,
   "id": "cf1724d7",
   "metadata": {},
   "outputs": [],
   "source": [
    "df['comb08'].plot(kind='hist');"
   ]
  },
  {
   "cell_type": "code",
   "execution_count": null,
   "id": "8d2d20a0",
   "metadata": {},
   "outputs": [],
   "source": [
    "df['comb08'].plot.hist();"
   ]
  },
  {
   "cell_type": "code",
   "execution_count": null,
   "id": "2746359a",
   "metadata": {},
   "outputs": [],
   "source": [
    "df['comb08'].plot(kind='box');"
   ]
  },
  {
   "cell_type": "code",
   "execution_count": null,
   "id": "b5a5dc7b",
   "metadata": {},
   "outputs": [],
   "source": [
    "df['comb08'].plot(kind='density');"
   ]
  },
  {
   "cell_type": "code",
   "execution_count": null,
   "id": "5c8b02f9",
   "metadata": {},
   "outputs": [],
   "source": [
    "df['comb08'].plot(kind='kde')"
   ]
  },
  {
   "cell_type": "code",
   "execution_count": null,
   "id": "11b96888",
   "metadata": {},
   "outputs": [],
   "source": [
    "avg_by_year = df.groupby(['year']).agg({'highway08': 'mean', \n",
    "                          'city08': 'mean', 'comb08': 'mean'})\n",
    "avg_by_year"
   ]
  },
  {
   "cell_type": "code",
   "execution_count": null,
   "id": "662fd87b",
   "metadata": {},
   "outputs": [],
   "source": [
    "avg_by_year.plot(kind='box',  title='Gas Mileage');"
   ]
  },
  {
   "cell_type": "code",
   "execution_count": null,
   "id": "9363429d",
   "metadata": {},
   "outputs": [],
   "source": [
    "avg_by_year.plot(kind='line',  title='Gas Mileage');"
   ]
  },
  {
   "cell_type": "code",
   "execution_count": null,
   "id": "88d1d68d",
   "metadata": {},
   "outputs": [],
   "source": [
    "avg_by_year.plot(kind='line', title='Gas Mileage', figsize = (9,5), \n",
    "                 xticks = np.arange(2000,2022,2), ylim = (0,32),\n",
    "                 rot = 45);"
   ]
  },
  {
   "cell_type": "code",
   "execution_count": null,
   "id": "2e122e9a",
   "metadata": {},
   "outputs": [],
   "source": [
    "avg_by_year.plot(kind = 'bar')"
   ]
  },
  {
   "cell_type": "code",
   "execution_count": null,
   "id": "d2803ab7",
   "metadata": {
    "scrolled": false
   },
   "outputs": [],
   "source": [
    "avg_by_year.plot(kind = 'bar', rot = 45, figsize = (10,5))"
   ]
  },
  {
   "cell_type": "code",
   "execution_count": null,
   "id": "754a9319",
   "metadata": {},
   "outputs": [],
   "source": [
    "avg_by_year.plot(kind = 'barh')"
   ]
  },
  {
   "cell_type": "code",
   "execution_count": null,
   "id": "909a791f",
   "metadata": {},
   "outputs": [],
   "source": [
    "avg_by_year.plot(kind='area')"
   ]
  },
  {
   "cell_type": "code",
   "execution_count": null,
   "id": "ee61fffd",
   "metadata": {},
   "outputs": [],
   "source": [
    "fig, ax = plt.subplots(figsize=(9, 4))\n",
    "avg_by_year.plot(kind='area', ax=ax)"
   ]
  },
  {
   "cell_type": "code",
   "execution_count": null,
   "id": "ceb0cbc0",
   "metadata": {},
   "outputs": [],
   "source": [
    "fig, ax1 = plt.subplots(figsize=(9, 4))\n",
    "avg_by_year.plot(kind='area', ax=ax1, stacked=False)\n",
    "ax1.xaxis.set_major_formatter(ticker.StrMethodFormatter(\"{x:0.0f}\"))\n",
    "ax1.set(ylabel='MPG', title='Average MPG by Year');"
   ]
  },
  {
   "cell_type": "markdown",
   "id": "b14d8d6d",
   "metadata": {},
   "source": [
    "## Histogram and Boxplot Methods"
   ]
  },
  {
   "cell_type": "code",
   "execution_count": null,
   "id": "8a12b96d",
   "metadata": {},
   "outputs": [],
   "source": [
    "df[['comb08', 'highway08', 'city08']].plot(kind='hist', alpha=0.45, xlim=(5,60), bins=100)"
   ]
  },
  {
   "cell_type": "code",
   "execution_count": null,
   "id": "39caab80",
   "metadata": {},
   "outputs": [],
   "source": [
    "df.hist(column=['comb08'])"
   ]
  },
  {
   "cell_type": "code",
   "execution_count": null,
   "id": "e7d3f020",
   "metadata": {},
   "outputs": [],
   "source": [
    "df.hist(column=['highway08', 'city08'], grid=False)"
   ]
  },
  {
   "cell_type": "code",
   "execution_count": null,
   "id": "d82b2ea3",
   "metadata": {},
   "outputs": [],
   "source": [
    "df.hist(column=['highway08', 'city08', 'comb08'], sharex=True)"
   ]
  },
  {
   "cell_type": "code",
   "execution_count": null,
   "id": "2bcaaf4c",
   "metadata": {},
   "outputs": [],
   "source": [
    "df.hist(column=['highway08', 'city08', 'comb08'], \n",
    "        figsize=(10,8), layout=(3,1));"
   ]
  },
  {
   "cell_type": "code",
   "execution_count": null,
   "id": "0d66cb70",
   "metadata": {},
   "outputs": [],
   "source": [
    "df.hist(column=['highway08', 'city08', 'comb08'], figsize=(10,8), sharey=True, layout=(3,1));"
   ]
  },
  {
   "cell_type": "code",
   "execution_count": null,
   "id": "66c5bc16",
   "metadata": {},
   "outputs": [],
   "source": [
    "df['fuelType'].value_counts()"
   ]
  },
  {
   "cell_type": "code",
   "execution_count": null,
   "id": "2907ea4d",
   "metadata": {},
   "outputs": [],
   "source": [
    "combustion = ['Regular', 'Premium', 'Gasoline or E85', 'Premium or E85', 'Midgrade']\n",
    "combustion_df = df.query('fuelType == @combustion').copy()"
   ]
  },
  {
   "cell_type": "code",
   "execution_count": null,
   "id": "5fd4d0a7",
   "metadata": {},
   "outputs": [],
   "source": [
    "combustion_df.head()"
   ]
  },
  {
   "cell_type": "code",
   "execution_count": null,
   "id": "fe2d5628",
   "metadata": {},
   "outputs": [],
   "source": [
    "combustion_df.hist(column=['highway08','city08', 'comb08'], \n",
    "                   figsize=(10,8), sharey=True, \n",
    "                   layout=(3,1));"
   ]
  },
  {
   "cell_type": "code",
   "execution_count": null,
   "id": "55f4de0d",
   "metadata": {},
   "outputs": [],
   "source": [
    "combustion_df.hist(column=['highway08', \n",
    "         'city08', 'comb08'], figsize=(14, 4), \n",
    "                   sharey=True, layout=(1,3));"
   ]
  },
  {
   "cell_type": "code",
   "execution_count": null,
   "id": "13babf55",
   "metadata": {},
   "outputs": [],
   "source": [
    "combustion_df.boxplot(column=['highway08', 'city08'])"
   ]
  },
  {
   "cell_type": "code",
   "execution_count": null,
   "id": "b4347a61",
   "metadata": {},
   "outputs": [],
   "source": [
    "combustion_df.boxplot(column=['highway08', 'city08'], by='cylinders', figsize=(10,5))"
   ]
  },
  {
   "cell_type": "code",
   "execution_count": null,
   "id": "aa62ca68",
   "metadata": {},
   "outputs": [],
   "source": [
    "combustion_df.boxplot(column=['highway08', 'city08'], by='cylinders', figsize=(10,5), showfliers=False)"
   ]
  },
  {
   "cell_type": "code",
   "execution_count": null,
   "id": "152918fb",
   "metadata": {},
   "outputs": [],
   "source": [
    "combustion_df.boxplot(column=['highway08', 'city08', 'comb08'], \n",
    "                      by='cylinders', figsize=(12,5), layout=(1,3),\n",
    "                      showfliers=False);"
   ]
  },
  {
   "cell_type": "code",
   "execution_count": null,
   "id": "1daf54c3",
   "metadata": {},
   "outputs": [],
   "source": []
  }
 ],
 "metadata": {
  "kernelspec": {
   "display_name": "3.11.8",
   "language": "python",
   "name": "python3"
  },
  "language_info": {
   "codemirror_mode": {
    "name": "ipython",
    "version": 3
   },
   "file_extension": ".py",
   "mimetype": "text/x-python",
   "name": "python",
   "nbconvert_exporter": "python",
   "pygments_lexer": "ipython3",
   "version": "3.11.8"
  }
 },
 "nbformat": 4,
 "nbformat_minor": 5
}
