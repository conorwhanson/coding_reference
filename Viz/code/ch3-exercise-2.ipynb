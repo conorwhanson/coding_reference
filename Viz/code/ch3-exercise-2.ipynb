{
 "cells": [
  {
   "cell_type": "markdown",
   "id": "90ec1037",
   "metadata": {},
   "source": [
    "### Chapter 3 Matplotlib Data Visualization\n",
    "\n",
    "Exercise 2"
   ]
  },
  {
   "cell_type": "code",
   "execution_count": null,
   "id": "cd0de61c",
   "metadata": {},
   "outputs": [],
   "source": [
    "from pathlib import Path\n",
    "import pandas as pd\n",
    "import numpy as np\n",
    "import matplotlib.pyplot as plt\n",
    "from matplotlib import ticker"
   ]
  },
  {
   "cell_type": "code",
   "execution_count": null,
   "id": "735b302c",
   "metadata": {},
   "outputs": [],
   "source": [
    "src_file = Path.cwd() / 'data' / 'raw' / 'EPA_fuel_economy.csv'\n",
    "image_dir = Path.cwd() / 'images'"
   ]
  },
  {
   "cell_type": "code",
   "execution_count": null,
   "id": "de1064cd",
   "metadata": {},
   "outputs": [],
   "source": [
    "df = pd.read_csv(src_file)"
   ]
  },
  {
   "cell_type": "code",
   "execution_count": null,
   "id": "5830f9e5",
   "metadata": {},
   "outputs": [],
   "source": [
    "df.head()"
   ]
  },
  {
   "cell_type": "markdown",
   "id": "4535ce51",
   "metadata": {},
   "source": [
    "## Additional Plot Types\n",
    "Going beyong the histogram and boxplot"
   ]
  },
  {
   "cell_type": "code",
   "execution_count": null,
   "id": "9f3e1b91",
   "metadata": {},
   "outputs": [],
   "source": [
    "avg_by_year = df.groupby(['year'], as_index = False).agg({'comb08': 'mean'}).round(2)\n",
    "avg_by_year"
   ]
  },
  {
   "cell_type": "code",
   "execution_count": null,
   "id": "c81563ac",
   "metadata": {},
   "outputs": [],
   "source": [
    "fig, ax1 = plt.subplots()\n",
    "ax1.plot(avg_by_year['year'], avg_by_year['comb08']);"
   ]
  },
  {
   "cell_type": "code",
   "execution_count": null,
   "id": "059234a4",
   "metadata": {},
   "outputs": [],
   "source": [
    "fig, ax1 = plt.subplots()\n",
    "ax1.plot(avg_by_year['year'], avg_by_year['comb08'])\n",
    "ax1.set_xticks(np.arange(2000, 2022, 2));"
   ]
  },
  {
   "cell_type": "code",
   "execution_count": null,
   "id": "f2f60ebb",
   "metadata": {},
   "outputs": [],
   "source": [
    "fig, ax1 = plt.subplots()\n",
    "ax1.plot(avg_by_year['year'], avg_by_year['comb08'])\n",
    "ax1.xaxis.set_major_formatter(ticker.StrMethodFormatter(\"{x:0.0f}\"));"
   ]
  },
  {
   "cell_type": "code",
   "execution_count": null,
   "id": "fb6b7a19",
   "metadata": {},
   "outputs": [],
   "source": [
    "fig, ax1 = plt.subplots()\n",
    "ax1.bar(avg_by_year['year'], avg_by_year['comb08']);"
   ]
  },
  {
   "cell_type": "code",
   "execution_count": null,
   "id": "682ac912",
   "metadata": {},
   "outputs": [],
   "source": [
    "fig, ax1 = plt.subplots()\n",
    "ax1.bar(avg_by_year['year'], avg_by_year['comb08'])\n",
    "ax1.set_xticks(np.arange(2000, 2022, 2));"
   ]
  },
  {
   "cell_type": "code",
   "execution_count": null,
   "id": "7194f9c0",
   "metadata": {},
   "outputs": [],
   "source": [
    "fig, ax1 = plt.subplots()\n",
    "ax1.barh(avg_by_year['year'], avg_by_year['comb08']);"
   ]
  },
  {
   "cell_type": "code",
   "execution_count": null,
   "id": "a49a7fba",
   "metadata": {},
   "outputs": [],
   "source": [
    "fig, ax1 = plt.subplots()\n",
    "ax1.scatter(x = df['fuelCost08'], y = df['displ'], alpha = 0.5, c = df['cylinders'])\n",
    "ax1.set(xlabel = 'Fuel Cost ($)', ylabel = 'Displacement')"
   ]
  },
  {
   "cell_type": "code",
   "execution_count": null,
   "id": "0b814095",
   "metadata": {},
   "outputs": [],
   "source": [
    "fig, ax1 = plt.subplots(figsize = (9,7))\n",
    "ax1.scatter(x = df['fuelCost08'], y = df['displ'], alpha = 0.5, c = df['cylinders'])\n",
    "ax1.set_xlabel('Fuel Cost', size = 14)\n",
    "ax1.set_ylabel('Displacement', size = 14)\n",
    "ax1.xaxis.set_major_formatter('${x:,.0f}')\n",
    "ax1.tick_params(axis = 'x', labelrotation = 45, labelsize = 14)\n",
    "ax1.tick_params(axis = 'y', labelsize = 14)\n",
    "ax1.axvline(3500, color = 'black', linestyle = '-')\n",
    "ax1.annotate('Target of $3500', xy = (3500,2), size = 16)\n",
    "ax1.grid(True)"
   ]
  },
  {
   "cell_type": "markdown",
   "id": "cfc2e4ca",
   "metadata": {},
   "source": [
    "## Using Styles"
   ]
  },
  {
   "cell_type": "code",
   "execution_count": null,
   "id": "9375d640",
   "metadata": {},
   "outputs": [],
   "source": [
    "plt.style.available"
   ]
  },
  {
   "cell_type": "code",
   "execution_count": null,
   "id": "90b02bbc",
   "metadata": {},
   "outputs": [],
   "source": [
    "plt.style.use('ggplot')"
   ]
  },
  {
   "cell_type": "code",
   "execution_count": null,
   "id": "4b158548",
   "metadata": {},
   "outputs": [],
   "source": [
    "fig, ax1 = plt.subplots()\n",
    "ax1.scatter(x = df['fuelCost08'], y = df['displ'], alpha = 0.5, c = df['cylinders'])\n",
    "ax1.set(xlabel = 'Fuel Cost ($)', ylabel = 'Displacement')"
   ]
  },
  {
   "cell_type": "code",
   "execution_count": null,
   "id": "34968e08",
   "metadata": {},
   "outputs": [],
   "source": [
    "from matplotlib import style\n",
    "\n",
    "print(plt.style.available)"
   ]
  },
  {
   "cell_type": "code",
   "execution_count": null,
   "id": "92f287e1",
   "metadata": {},
   "outputs": [],
   "source": [
    "# Note, styles seaborn, seaborn-dark have been renamed to seaborn-v0_8, seaborn-v0_8-dark.\n",
    "# Hence the code change below.\n",
    "\n",
    "for style in ['Solarize_Light2', 'bmh', 'ggplot', 'fivethirtyeight', 'seaborn-v0_8', 'seaborn-v0_8-dark']:\n",
    "    with plt.style.context(style):\n",
    "        fig, ax1 = plt.subplots()\n",
    "        ax1.scatter(x=df['fuelCost08'], y=df['displ'], alpha=0.5, c=df['cylinders'])\n",
    "        ax1.set(title = f'style - {style}', xlabel='Fuel Cost ($)', ylabel='Displacement')"
   ]
  },
  {
   "cell_type": "code",
   "execution_count": null,
   "id": "49490bec",
   "metadata": {},
   "outputs": [],
   "source": []
  }
 ],
 "metadata": {
  "kernelspec": {
   "display_name": "3.11.8",
   "language": "python",
   "name": "python3"
  },
  "language_info": {
   "codemirror_mode": {
    "name": "ipython",
    "version": 3
   },
   "file_extension": ".py",
   "mimetype": "text/x-python",
   "name": "python",
   "nbconvert_exporter": "python",
   "pygments_lexer": "ipython3",
   "version": "3.11.8"
  }
 },
 "nbformat": 4,
 "nbformat_minor": 5
}
