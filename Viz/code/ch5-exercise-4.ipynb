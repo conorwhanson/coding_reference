{
 "cells": [
  {
   "cell_type": "markdown",
   "id": "ae9f3f70",
   "metadata": {},
   "source": [
    "### Chapter 5 Seaborn Data Visualization\n",
    "\n",
    "Exercise 4"
   ]
  },
  {
   "cell_type": "code",
   "execution_count": null,
   "id": "b85d634e",
   "metadata": {},
   "outputs": [],
   "source": [
    "from pathlib import Path\n",
    "import pandas as pd\n",
    "import numpy as np\n",
    "import seaborn as sns\n",
    "import matplotlib.pyplot as plt"
   ]
  },
  {
   "cell_type": "code",
   "execution_count": null,
   "id": "4359b690",
   "metadata": {},
   "outputs": [],
   "source": [
    "src_file = Path.cwd() / 'data' / 'raw' / 'EPA_fuel_economy_summary.csv'"
   ]
  },
  {
   "cell_type": "code",
   "execution_count": null,
   "id": "b35b4e3a",
   "metadata": {},
   "outputs": [],
   "source": [
    "df = pd.read_csv(src_file)"
   ]
  },
  {
   "cell_type": "code",
   "execution_count": null,
   "id": "1f6a5773",
   "metadata": {},
   "outputs": [],
   "source": [
    "df.head()"
   ]
  },
  {
   "cell_type": "code",
   "execution_count": null,
   "id": "af734ec0",
   "metadata": {},
   "outputs": [],
   "source": [
    "sns.set_theme(style='whitegrid', font_scale=1.25)"
   ]
  },
  {
   "cell_type": "code",
   "execution_count": null,
   "id": "7d759690",
   "metadata": {},
   "outputs": [],
   "source": [
    "fig, ax1 = plt.subplots(figsize=(8,5))\n",
    "sns.histplot(df, x='fuelCost08', hue='class_summary', \n",
    "             ax=ax1, palette='flare', legend=False)\n",
    "ax1.set_xlabel('Fuel Cost')\n",
    "ax1.set_ylabel('Number Cars')"
   ]
  },
  {
   "cell_type": "code",
   "execution_count": null,
   "id": "dddc2363",
   "metadata": {},
   "outputs": [],
   "source": [
    "g = sns.displot(df, x='fuelCost08', hue='class_summary')\n",
    "g.set_axis_labels(x_var='Fuel Cost', y_var='Number cars')\n",
    "mean_fuel_cost = df['fuelCost08'].mean().round(2)\n",
    "g.refline(x=mean_fuel_cost, linestyle='--', linewidth=4, color='r')"
   ]
  },
  {
   "cell_type": "code",
   "execution_count": null,
   "id": "d5565c86",
   "metadata": {},
   "outputs": [],
   "source": [
    "g = sns.displot(df, x='fuelCost08', hue='class_summary', col='drive')\n",
    "g.set_axis_labels('Fuel Cost', 'Number cars')\n",
    "g.set_titles(col_template='Drive type {col_name}')\n",
    "g.set(xlim=(0, 3000), ylim=(0, 900))\n",
    "g.refline(x=mean_fuel_cost, linestyle='--', linewidth=4, color='r')\n",
    "g.savefig('histogram.svg')"
   ]
  },
  {
   "cell_type": "code",
   "execution_count": null,
   "id": "a1948cef",
   "metadata": {},
   "outputs": [],
   "source": []
  }
 ],
 "metadata": {
  "kernelspec": {
   "display_name": "3.11.8",
   "language": "python",
   "name": "python3"
  },
  "language_info": {
   "codemirror_mode": {
    "name": "ipython",
    "version": 3
   },
   "file_extension": ".py",
   "mimetype": "text/x-python",
   "name": "python",
   "nbconvert_exporter": "python",
   "pygments_lexer": "ipython3",
   "version": "3.11.8"
  }
 },
 "nbformat": 4,
 "nbformat_minor": 5
}
