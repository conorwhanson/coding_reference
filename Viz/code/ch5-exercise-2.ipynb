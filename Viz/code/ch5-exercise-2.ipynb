{
 "cells": [
  {
   "cell_type": "markdown",
   "id": "714931f4",
   "metadata": {},
   "source": [
    "### Chapter 5 Seaborn Data Visualization\n",
    "\n",
    "Exercise 2"
   ]
  },
  {
   "cell_type": "code",
   "execution_count": null,
   "id": "7b864581",
   "metadata": {},
   "outputs": [],
   "source": [
    "from pathlib import Path\n",
    "import pandas as pd\n",
    "import numpy as np\n",
    "import seaborn as sns"
   ]
  },
  {
   "cell_type": "code",
   "execution_count": null,
   "id": "87904bb0",
   "metadata": {},
   "outputs": [],
   "source": [
    "src_file = Path.cwd() / 'data' / 'raw' / 'EPA_fuel_economy_summary.csv'\n",
    "df = pd.read_csv(src_file)"
   ]
  },
  {
   "cell_type": "code",
   "execution_count": null,
   "id": "077bed63",
   "metadata": {},
   "outputs": [],
   "source": [
    "df.head()"
   ]
  },
  {
   "cell_type": "code",
   "execution_count": null,
   "id": "06e343a9",
   "metadata": {},
   "outputs": [],
   "source": [
    "sns.set_style('darkgrid')"
   ]
  },
  {
   "cell_type": "code",
   "execution_count": null,
   "id": "f404955c",
   "metadata": {},
   "outputs": [],
   "source": [
    "sns.displot(data=df, x='fuelCost08', hue='year', aspect=2.5)"
   ]
  },
  {
   "cell_type": "code",
   "execution_count": null,
   "id": "045ee626",
   "metadata": {},
   "outputs": [],
   "source": [
    "sns.displot(data=df, x='fuelCost08', hue='date_range', aspect=2.5)"
   ]
  },
  {
   "cell_type": "code",
   "execution_count": null,
   "id": "36ca53b9",
   "metadata": {},
   "outputs": [],
   "source": [
    "sns.displot(data=df, x='fuelCost08', col='date_range')"
   ]
  },
  {
   "cell_type": "code",
   "execution_count": null,
   "id": "801c1fd0",
   "metadata": {},
   "outputs": [],
   "source": [
    "sns.displot(data=df, x='fuelCost08', row='date_range', kind='kde')"
   ]
  },
  {
   "cell_type": "code",
   "execution_count": null,
   "id": "9499ccfd",
   "metadata": {},
   "outputs": [],
   "source": [
    "sns.relplot(data=df, x='cylinders', y='comb08', kind='scatter')"
   ]
  },
  {
   "cell_type": "code",
   "execution_count": null,
   "id": "3057bd64",
   "metadata": {},
   "outputs": [],
   "source": [
    "sns.relplot(data=df, x='cylinders', y='comb08', hue='drive', kind='scatter')"
   ]
  },
  {
   "cell_type": "code",
   "execution_count": null,
   "id": "e817c91f",
   "metadata": {},
   "outputs": [],
   "source": [
    "sns.relplot(data=df, \n",
    "            x='cylinders', \n",
    "            y='comb08', \n",
    "            col='date_range',\n",
    "            hue='drive', \n",
    "            kind='scatter')"
   ]
  },
  {
   "cell_type": "code",
   "execution_count": null,
   "id": "48a7cd18",
   "metadata": {},
   "outputs": [],
   "source": [
    "sns.relplot(data=df, \n",
    "            x='cylinders', \n",
    "            y='comb08', \n",
    "            col='date_range',\n",
    "            hue='drive', \n",
    "            kind='line')"
   ]
  },
  {
   "cell_type": "code",
   "execution_count": null,
   "id": "0b51f5f5",
   "metadata": {},
   "outputs": [],
   "source": [
    "sns.catplot(data=df, \n",
    "            x='date_range', \n",
    "            y='comb08', \n",
    "            kind='box', \n",
    "            showfliers=False)"
   ]
  },
  {
   "cell_type": "code",
   "execution_count": null,
   "id": "4185512b",
   "metadata": {},
   "outputs": [],
   "source": [
    "sns.catplot(data=df, \n",
    "            x='date_range', \n",
    "            y='comb08', \n",
    "            kind='boxen')"
   ]
  },
  {
   "cell_type": "code",
   "execution_count": null,
   "id": "12a16d2f",
   "metadata": {},
   "outputs": [],
   "source": [
    "sns.catplot(data=df, \n",
    "            x='date_range', \n",
    "            y='comb08', \n",
    "            col='fuel_type_summary',\n",
    "            kind='box')"
   ]
  },
  {
   "cell_type": "code",
   "execution_count": null,
   "id": "b09e57a7",
   "metadata": {},
   "outputs": [],
   "source": [
    "sns.catplot(data=df, \n",
    "            x='date_range', \n",
    "            y='comb08', \n",
    "            col='fuel_type_summary',\n",
    "            col_wrap=2,\n",
    "            kind='box')"
   ]
  },
  {
   "cell_type": "code",
   "execution_count": null,
   "id": "ad9259d3",
   "metadata": {},
   "outputs": [],
   "source": [
    "sns.catplot(data=df, x='year', aspect=2,\n",
    "            y='highway08', kind='point')"
   ]
  },
  {
   "cell_type": "code",
   "execution_count": null,
   "id": "e4861cf0",
   "metadata": {},
   "outputs": [],
   "source": [
    "# The `join` parameter is deprecated and will be removed in v0.15.0. \n",
    "# You can remove the line between points with `linestyle='none'`.\n",
    "\n",
    "# sns.catplot(data=df, x='year', aspect=2,\n",
    "#             hue='fuel_type_summary', join=False,\n",
    "#             y='highway08', kind='point')\n",
    "\n",
    "sns.catplot(data=df, x='year', aspect=2,\n",
    "            hue='fuel_type_summary', linestyle='none',\n",
    "            y='highway08', kind='point')"
   ]
  },
  {
   "cell_type": "code",
   "execution_count": null,
   "id": "74eec10b",
   "metadata": {},
   "outputs": [],
   "source": [
    "sns.catplot(data=df, x='year', aspect=2,\n",
    "            row='date_range',\n",
    "            hue='fuel_type_summary',\n",
    "            sharex=False,\n",
    "            y='highway08', kind='bar')"
   ]
  },
  {
   "cell_type": "code",
   "execution_count": null,
   "id": "0765da49",
   "metadata": {},
   "outputs": [],
   "source": [
    "sns.catplot(data=df, \n",
    "            y='comb08', \n",
    "            x='cylinders',\n",
    "            col ='drive',\n",
    "            row='date_range',\n",
    "            hue='transmission',\n",
    "            kind='bar')"
   ]
  },
  {
   "cell_type": "code",
   "execution_count": null,
   "id": "8c9112cc",
   "metadata": {},
   "outputs": [],
   "source": []
  }
 ],
 "metadata": {
  "kernelspec": {
   "display_name": "3.11.8",
   "language": "python",
   "name": "python3"
  },
  "language_info": {
   "codemirror_mode": {
    "name": "ipython",
    "version": 3
   },
   "file_extension": ".py",
   "mimetype": "text/x-python",
   "name": "python",
   "nbconvert_exporter": "python",
   "pygments_lexer": "ipython3",
   "version": "3.11.8"
  }
 },
 "nbformat": 4,
 "nbformat_minor": 5
}
